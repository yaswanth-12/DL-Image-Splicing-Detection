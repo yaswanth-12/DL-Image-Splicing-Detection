{
 "cells": [
  {
   "cell_type": "code",
   "execution_count": 87,
   "metadata": {},
   "outputs": [],
   "source": [
    "import random\n",
    "import numpy as np\n",
    "import matplotlib.pyplot as plt\n",
    "import pandas as pd\n",
    "from sklearn.model_selection import train_test_split\n",
    "import os\n",
    "import glob\n",
    "import math\n",
    "%matplotlib inline"
   ]
  },
  {
   "cell_type": "code",
   "execution_count": 88,
   "metadata": {},
   "outputs": [],
   "source": [
    "import torch\n",
    "import torch_dct as dct\n",
    "import torchvision\n",
    "import torchvision.transforms as transforms\n",
    "from torch.utils.data import DataLoader, TensorDataset\n",
    "from torchvision.utils import make_grid"
   ]
  },
  {
   "cell_type": "code",
   "execution_count": 89,
   "metadata": {},
   "outputs": [],
   "source": [
    "import albumentations as A\n",
    "import cv2 as cv"
   ]
  },
  {
   "cell_type": "code",
   "execution_count": 90,
   "metadata": {},
   "outputs": [],
   "source": [
    "import torch.nn as nn\n",
    "import torch.nn.functional as F\n",
    "import torch.optim as optim\n",
    "from torch.autograd import Variable\n",
    "from PIL import Image\n",
    "from torch.utils.data import random_split\n",
    "import torchvision.transforms.functional as TF\n",
    "from scipy.ndimage import rotate, filters\n",
    "from skimage.color import rgb2gray"
   ]
  },
  {
   "cell_type": "code",
   "execution_count": 91,
   "metadata": {},
   "outputs": [],
   "source": [
    "from sklearn.metrics import roc_auc_score, recall_score, f1_score, precision_score, accuracy_score"
   ]
  },
  {
   "cell_type": "code",
   "execution_count": 92,
   "metadata": {},
   "outputs": [
    {
     "name": "stderr",
     "output_type": "stream",
     "text": [
      "'PYTORCH_NO_CUDA_MEMORY_CACHING' is not recognized as an internal or external command,\n",
      "operable program or batch file.\n"
     ]
    },
    {
     "name": "stdout",
     "output_type": "stream",
     "text": [
      "Requirement already satisfied: albumentations in c:\\users\\yaswa\\anaconda3\\lib\\site-packages (1.3.0)\n",
      "Requirement already satisfied: numpy>=1.11.1 in c:\\users\\yaswa\\anaconda3\\lib\\site-packages (from albumentations) (1.21.5)\n",
      "Requirement already satisfied: scikit-image>=0.16.1 in c:\\users\\yaswa\\anaconda3\\lib\\site-packages (from albumentations) (0.19.2)\n",
      "Requirement already satisfied: PyYAML in c:\\users\\yaswa\\anaconda3\\lib\\site-packages (from albumentations) (6.0)\n",
      "Requirement already satisfied: opencv-python>=4.1.1 in c:\\users\\yaswa\\anaconda3\\lib\\site-packages (from albumentations) (4.7.0.72)\n",
      "Requirement already satisfied: qudida>=0.0.4 in c:\\users\\yaswa\\anaconda3\\lib\\site-packages (from albumentations) (0.0.4)\n",
      "Requirement already satisfied: scipy>=1.1.0 in c:\\users\\yaswa\\anaconda3\\lib\\site-packages (from albumentations) (1.7.3)\n",
      "Requirement already satisfied: opencv-python-headless>=4.0.1 in c:\\users\\yaswa\\anaconda3\\lib\\site-packages (from qudida>=0.0.4->albumentations) (4.7.0.72)\n",
      "Requirement already satisfied: scikit-learn>=0.19.1 in c:\\users\\yaswa\\anaconda3\\lib\\site-packages (from qudida>=0.0.4->albumentations) (1.2.1)\n",
      "Requirement already satisfied: typing-extensions in c:\\users\\yaswa\\anaconda3\\lib\\site-packages (from qudida>=0.0.4->albumentations) (4.3.0)\n",
      "Requirement already satisfied: tifffile>=2019.7.26 in c:\\users\\yaswa\\anaconda3\\lib\\site-packages (from scikit-image>=0.16.1->albumentations) (2021.7.2)\n",
      "Requirement already satisfied: PyWavelets>=1.1.1 in c:\\users\\yaswa\\anaconda3\\lib\\site-packages (from scikit-image>=0.16.1->albumentations) (1.3.0)\n",
      "Requirement already satisfied: pillow!=7.1.0,!=7.1.1,!=8.3.0,>=6.1.0 in c:\\users\\yaswa\\anaconda3\\lib\\site-packages (from scikit-image>=0.16.1->albumentations) (9.2.0)\n",
      "Requirement already satisfied: packaging>=20.0 in c:\\users\\yaswa\\anaconda3\\lib\\site-packages (from scikit-image>=0.16.1->albumentations) (21.3)\n",
      "Requirement already satisfied: networkx>=2.2 in c:\\users\\yaswa\\anaconda3\\lib\\site-packages (from scikit-image>=0.16.1->albumentations) (2.8.4)\n",
      "Requirement already satisfied: imageio>=2.4.1 in c:\\users\\yaswa\\anaconda3\\lib\\site-packages (from scikit-image>=0.16.1->albumentations) (2.19.3)\n",
      "Requirement already satisfied: pyparsing!=3.0.5,>=2.0.2 in c:\\users\\yaswa\\anaconda3\\lib\\site-packages (from packaging>=20.0->scikit-image>=0.16.1->albumentations) (3.0.9)\n",
      "Requirement already satisfied: joblib>=1.1.1 in c:\\users\\yaswa\\anaconda3\\lib\\site-packages (from scikit-learn>=0.19.1->qudida>=0.0.4->albumentations) (1.2.0)\n",
      "Requirement already satisfied: threadpoolctl>=2.0.0 in c:\\users\\yaswa\\anaconda3\\lib\\site-packages (from scikit-learn>=0.19.1->qudida>=0.0.4->albumentations) (2.2.0)\n",
      "Requirement already satisfied: kornia in c:\\users\\yaswa\\anaconda3\\lib\\site-packages (0.6.12)\n",
      "Requirement already satisfied: packaging in c:\\users\\yaswa\\anaconda3\\lib\\site-packages (from kornia) (21.3)\n",
      "Requirement already satisfied: torch>=1.9.1 in c:\\users\\yaswa\\anaconda3\\lib\\site-packages (from kornia) (2.0.1)\n",
      "Requirement already satisfied: filelock in c:\\users\\yaswa\\anaconda3\\lib\\site-packages (from torch>=1.9.1->kornia) (3.6.0)\n",
      "Requirement already satisfied: typing-extensions in c:\\users\\yaswa\\anaconda3\\lib\\site-packages (from torch>=1.9.1->kornia) (4.3.0)\n",
      "Requirement already satisfied: jinja2 in c:\\users\\yaswa\\anaconda3\\lib\\site-packages (from torch>=1.9.1->kornia) (2.11.3)\n",
      "Requirement already satisfied: sympy in c:\\users\\yaswa\\anaconda3\\lib\\site-packages (from torch>=1.9.1->kornia) (1.10.1)\n",
      "Requirement already satisfied: networkx in c:\\users\\yaswa\\anaconda3\\lib\\site-packages (from torch>=1.9.1->kornia) (2.8.4)\n",
      "Requirement already satisfied: pyparsing!=3.0.5,>=2.0.2 in c:\\users\\yaswa\\anaconda3\\lib\\site-packages (from packaging->kornia) (3.0.9)\n",
      "Requirement already satisfied: MarkupSafe>=0.23 in c:\\users\\yaswa\\anaconda3\\lib\\site-packages (from jinja2->torch>=1.9.1->kornia) (2.0.1)\n",
      "Requirement already satisfied: mpmath>=0.19 in c:\\users\\yaswa\\anaconda3\\lib\\site-packages (from sympy->torch>=1.9.1->kornia) (1.2.1)\n"
     ]
    }
   ],
   "source": [
    "!PYTORCH_NO_CUDA_MEMORY_CACHING=1\n",
    "!pip install -U albumentations\n",
    "import albumentations as A\n",
    "!pip install kornia\n",
    "import kornia as K\n",
    "from sklearn import metrics\n",
    "import torch.utils.model_zoo as model_zoo\n",
    "from kornia import morphology as morph\n",
    "import ssl\n",
    "ssl._create_default_https_context = ssl._create_unverified_context"
   ]
  },
  {
   "cell_type": "code",
   "execution_count": 46,
   "metadata": {
    "papermill": {
     "duration": 2.735371,
     "end_time": "2021-12-22T10:50:23.678894",
     "exception": false,
     "start_time": "2021-12-22T10:50:20.943523",
     "status": "completed"
    },
    "scrolled": true,
    "tags": []
   },
   "outputs": [
    {
     "name": "stderr",
     "output_type": "stream",
     "text": [
      "'CUBLAS_WORKSPACE_CONFIG' is not recognized as an internal or external command,\n",
      "operable program or batch file.\n"
     ]
    },
    {
     "data": {
      "text/plain": [
       "False"
      ]
     },
     "execution_count": 46,
     "metadata": {},
     "output_type": "execute_result"
    }
   ],
   "source": [
    "seed = 200\n",
    "torch.backends.cudnn.deterministic = True\n",
    "!CUBLAS_WORKSPACE_CONFIG=:16:8\n",
    "torch.backends.cudnn.benchmark = False\n",
    "random.seed(seed)\n",
    "torch.manual_seed(seed)\n",
    "torch.cuda.is_available()"
   ]
  },
  {
   "cell_type": "code",
   "execution_count": 93,
   "metadata": {
    "tags": []
   },
   "outputs": [],
   "source": [
    "batch = 10\n",
    "num_epochs = 1"
   ]
  },
  {
   "cell_type": "code",
   "execution_count": 94,
   "metadata": {},
   "outputs": [],
   "source": [
    "class keywords:\n",
    "    TData_train = \"D:/YASWANTH/input/defactotrainset/defacto_trainset.xlsx\"\n",
    "    VData_test = \"D:/YASWANTH/input/defactotestset/defacto_testset.xlsx\"\n",
    "    splicing = \"D:/YASWANTH/input/defactosplicing/splicing_2_annotations/probe_mask\"\n",
    "    casia_model_path = \"D:/YASWANTH/input/casia-model/Model.pth\"\n",
    "    TRAIN = 'train'"
   ]
  },
  {
   "cell_type": "code",
   "execution_count": 95,
   "metadata": {
    "tags": []
   },
   "outputs": [],
   "source": [
    "def prepare(im_root_dir, lab_root_dir, num=2000, mode='test'):\n",
    "    \"\"\"\n",
    "    Prepare the data by reading from Excel and sorting the names and labels.\n",
    "\n",
    "    Args:\n",
    "        im_root_dir (str): Root directory for image data.\n",
    "        lab_root_dir (str): Root directory for label data.\n",
    "        num (int, optional): Number of data samples to load (default: 2000).\n",
    "        mode (str, optional): Mode of the dataset (default: 'test').\n",
    "\n",
    "    Returns:\n",
    "        tuple: Tuple containing the sorted names and labels.\n",
    "    \"\"\"\n",
    "    name = []\n",
    "    lab = []\n",
    "\n",
    "    # Read the data from the Excel\n",
    "    df = pd.read_excel(im_root_dir)\n",
    "\n",
    "    # Read the column with name 'name'\n",
    "    zipta = df['name'].tolist()\n",
    "\n",
    "    labels = sorted(os.listdir(lab_root_dir))\n",
    "\n",
    "    for fname in zipta:\n",
    "        lab_ = [a for a in labels if fname in a]\n",
    "        lab.append(lab_)\n",
    "\n",
    "    name = sorted(zipta)\n",
    "    label = sorted(lab)\n",
    "\n",
    "    return name, label"
   ]
  },
  {
   "cell_type": "code",
   "execution_count": 96,
   "metadata": {
    "papermill": {
     "duration": 0.070978,
     "end_time": "2021-12-22T10:50:26.493579",
     "exception": false,
     "start_time": "2021-12-22T10:50:26.422601",
     "status": "completed"
    },
    "tags": []
   },
   "outputs": [],
   "source": [
    "transformi = transforms.Compose([\n",
    "    torchvision.transforms.Normalize(\n",
    "        mean=[0.485, 0.456, 0.406],\n",
    "        std=[0.229, 0.224, 0.225]\n",
    "    )\n",
    "])\n",
    "\n",
    "transform = A.Compose([\n",
    "    A.OneOf([\n",
    "        A.HorizontalFlip(p=0.5),\n",
    "        A.VerticalFlip(p=0.5)\n",
    "    ], p=1)\n",
    "], p=0.05)\n",
    "\n",
    "\n",
    "class dataset(torch.utils.data.Dataset):\n",
    "    \"\"\"\n",
    "    Custom dataset class for image data.\n",
    "    \"\"\"\n",
    "\n",
    "    def __init__(self, im_root_dir, label_root_dir, num, mode='test', transform=None, tra=None):\n",
    "        \"\"\"\n",
    "        Initialize the dataset.\n",
    "\n",
    "        Args:\n",
    "            im_root_dir (str): Root directory for image data.\n",
    "            label_root_dir (str): Root directory for label data.\n",
    "            num (int): Number of data samples to load.\n",
    "            mode (str, optional): Mode of the dataset (default: 'test').\n",
    "            transform: Transformation to apply to the data (default: None).\n",
    "            tra: Additional transformation parameter (default: None).\n",
    "        \"\"\"\n",
    "        self.im_root_dir = im_root_dir\n",
    "        self.label_root_dir = label_root_dir\n",
    "        self.transform = transform\n",
    "        self.tra = tra\n",
    "        self.num = num\n",
    "        self.mode = mode\n",
    "        name = []\n",
    "        lab = []\n",
    "        name, label = prepare(self.im_root_dir, self.label_root_dir, self.num, self.mode)\n",
    "        self.name = name\n",
    "        self.label = label\n",
    "\n",
    "    def __len__(self):\n",
    "        \"\"\"\n",
    "        Get the length of the dataset.\n",
    "\n",
    "        Returns:\n",
    "            int: Length of the dataset.\n",
    "        \"\"\"\n",
    "        return len(self.name)\n",
    "\n",
    "    def transform0(self, sample):\n",
    "        \"\"\"\n",
    "        Apply transformation to the image and mask.\n",
    "\n",
    "        Args:\n",
    "            sample (tuple): Tuple containing the image and mask.\n",
    "\n",
    "        Returns:\n",
    "            tuple: Transformed image and mask.\n",
    "        \"\"\"\n",
    "        image, mask = sample[0], sample[1]\n",
    "\n",
    "        n = 256\n",
    "        image = TF.resize(image, size=(n, n), interpolation=torchvision.transforms.InterpolationMode.BICUBIC)\n",
    "        mask = TF.resize(mask, size=(n, n), interpolation=torchvision.transforms.InterpolationMode.BICUBIC)\n",
    "\n",
    "        return image, mask\n",
    "\n",
    "    def __getitem__(self, idx):\n",
    "        \"\"\"\n",
    "        Get a specific data sample from the dataset.\n",
    "\n",
    "        Args:\n",
    "            idx (int): Index of the data sample.\n",
    "\n",
    "        Returns:\n",
    "            dict: Dictionary containing the image and label.\n",
    "        \"\"\"\n",
    "        if torch.is_tensor(idx):\n",
    "            idx = idx.tolist()\n",
    "\n",
    "        image = torch.FloatTensor(cv.imread(f\"{keywords.splicing_img}{self.name[idx][:-3]}tif\"))\n",
    "\n",
    "        label = torch.FloatTensor(cv.imread(f\"{keywords.splicing}/{self.name[idx][:-3]}jpg\", cv.IMREAD_GRAYSCALE))\n",
    "\n",
    "        if len(label.shape) >= 3:\n",
    "            label = torch.max(label, 2)\n",
    "\n",
    "        if self.mode == keywords.TRAIN:\n",
    "            z = self.tra(image=np.array(image), mask=(np.array(label)))\n",
    "            x = torch.FloatTensor(z['image'])\n",
    "            y = torch.FloatTensor(z['mask'])\n",
    "            x = x.permute(2, 0, 1)\n",
    "            x = self.transform(x)\n",
    "            y = y.unsqueeze(0)\n",
    "            x, y = self.transform0((x / 255.0, y))\n",
    "            y = y.ge(0.5).float()\n",
    "        else:\n",
    "            x = image.permute(2, 0, 1)\n",
    "            x = self.transform(x)\n",
    "            y = label.unsqueeze(0) / 255.0\n",
    "            x, y = self.transform0((x / 255.0, y))\n",
    "            y = y.ge(0.5).float()\n",
    "\n",
    "        return {'image': x, 'landmarks': y}"
   ]
  },
  {
   "cell_type": "code",
   "execution_count": 97,
   "metadata": {
    "papermill": {
     "duration": 0.107833,
     "end_time": "2021-12-22T10:50:26.829109",
     "exception": false,
     "start_time": "2021-12-22T10:50:26.721276",
     "status": "completed"
    },
    "tags": []
   },
   "outputs": [],
   "source": [
    "TData = dataset(\n",
    "    keywords.TData_train,\n",
    "    keywords.splicing,\n",
    "    450,\n",
    "    keywords.TRAIN,\n",
    "    transformi,\n",
    "    transform\n",
    ")\n",
    "\n",
    "train_loader = DataLoader(TData, batch_size=batch, num_workers=0, shuffle=True)"
   ]
  },
  {
   "cell_type": "code",
   "execution_count": 99,
   "metadata": {
    "papermill": {
     "duration": 0.051302,
     "end_time": "2021-12-22T10:50:27.579952",
     "exception": false,
     "start_time": "2021-12-22T10:50:27.52865",
     "status": "completed"
    },
    "tags": []
   },
   "outputs": [],
   "source": [
    "VData = dataset(\n",
    "    keywords.VData_test,\n",
    "    keywords.splicing,\n",
    "    num=85,\n",
    "    transform=transformi,\n",
    "    tra=transform\n",
    ")\n",
    "\n",
    "test_loader = DataLoader(VData, batch_size=4, num_workers=0, shuffle=True)"
   ]
  },
  {
   "cell_type": "code",
   "execution_count": 100,
   "metadata": {
    "tags": []
   },
   "outputs": [],
   "source": [
    "import numpy as np\n",
    "from sklearn.metrics import precision_score, recall_score, accuracy_score, f1_score, roc_auc_score\n",
    "\n",
    "def calculate_pixel_f1(pd, gt):\n",
    "    \"\"\"\n",
    "    Calculates various evaluation metrics for binary classification tasks on pixel-level data.\n",
    "\n",
    "    Args:\n",
    "        pd (torch.Tensor): Predicted output tensor of shape (N, H, W) representing the predicted labels.\n",
    "        gt (torch.Tensor): Ground truth tensor of shape (N, H, W) representing the true labels.\n",
    "\n",
    "    Returns:\n",
    "        tuple: A tuple containing the following evaluation metrics:\n",
    "            - F1 score (float): F1 score for the binary classification task.\n",
    "            - AUC score (float): Area Under the ROC Curve score for the binary classification task.\n",
    "            - Precision (float): Precision score for the binary classification task.\n",
    "            - Recall (float): Recall score for the binary classification task.\n",
    "            - Accuracy (float): Accuracy score for the binary classification task.\n",
    "    \"\"\"\n",
    "    y_true = gt.view(-1).detach().cpu().numpy()\n",
    "    y_score = pd.view(-1).detach().cpu().numpy()\n",
    "\n",
    "    y_pred1 = np.array(y_score > 0.5, dtype=np.float32)\n",
    "    y_pred = y_pred1\n",
    "    precision = precision_score(y_true, y_pred, zero_division=1)\n",
    "    recall = recall_score(y_true, y_pred, zero_division=1)\n",
    "    acc = accuracy_score(y_true, y_pred)\n",
    "    F1 = f1_score(y_true, y_pred1, zero_division=1)\n",
    "    try:\n",
    "        AUC = roc_auc_score(y_true, y_pred1)\n",
    "    except:\n",
    "        print(\"Only one class\")\n",
    "        AUC = 0.0\n",
    "\n",
    "    return F1, AUC, precision, recall, acc"
   ]
  },
  {
   "cell_type": "code",
   "execution_count": 101,
   "metadata": {
    "tags": []
   },
   "outputs": [],
   "source": [
    "def VGGB16(block_number, mode, *args, **kwargs):\n",
    "    \"\"\"\n",
    "    Constructs a VGG Block (VGGB16) based on the specified block number.\n",
    "\n",
    "    Args:\n",
    "        block_number (int): Block number indicating which part of the VGG16 model to extract.\n",
    "        mode (str): Mode indicating whether the model is in training or evaluation mode.\n",
    "        *args: Variable length argument list.\n",
    "        **kwargs: Arbitrary keyword arguments.\n",
    "\n",
    "    Returns:\n",
    "        nn.Sequential: VGG Block (VGGB16) corresponding to the specified block number.\n",
    "    \"\"\"\n",
    "    if mode == keywords.TRAIN:\n",
    "        model = torchvision.models.vgg16_bn(pretrained=True, progress=False)\n",
    "        for param in model.parameters():\n",
    "            param.requires_grad = True\n",
    "    else:\n",
    "        with torch.no_grad():\n",
    "            model = torchvision.models.vgg16_bn(pretrained=False, progress=False)\n",
    "\n",
    "    table = {\n",
    "        '1': list(model.children())[0][0:6],\n",
    "        '2': list(model.children())[0][7:13],\n",
    "        '3': list(model.children())[0][14:23],\n",
    "        '4': list(model.children())[0][24:33],\n",
    "        '5': list(model.children())[0][34:43]\n",
    "    }\n",
    "\n",
    "    return table[f'{block_number}']"
   ]
  },
  {
   "cell_type": "code",
   "execution_count": 102,
   "metadata": {
    "tags": []
   },
   "outputs": [],
   "source": [
    "class GDWT(nn.Module):\n",
    "    \"\"\"\n",
    "    Generalized Discrete Wavelet Transform (GDWT) module implementation.\n",
    "    \"\"\"\n",
    "\n",
    "    def __init__(self):\n",
    "        \"\"\"\n",
    "        Initialize GDWT module.\n",
    "        \"\"\"\n",
    "        super(GDWT, self).__init__()\n",
    "        self.dwt = DWT()\n",
    "        self.soft = nn.Softmax2d()\n",
    "\n",
    "    def forward(self, x):\n",
    "        \"\"\"\n",
    "        Forward pass of the GDWT module.\n",
    "\n",
    "        Args:\n",
    "            x (torch.Tensor): Input tensor.\n",
    "\n",
    "        Returns:\n",
    "            torch.Tensor: Output tensor after applying GDWT.\n",
    "        \"\"\"\n",
    "        z = self.dwt(x)\n",
    "        y = z[1] + z[2]\n",
    "        y1 = self.soft(y)\n",
    "        s = y1 * z[0] + z[0]\n",
    "        return s"
   ]
  },
  {
   "cell_type": "code",
   "execution_count": 103,
   "metadata": {
    "tags": []
   },
   "outputs": [],
   "source": [
    "class VGG(nn.Module):\n",
    "    \"\"\"\n",
    "    VGG module implementation.\n",
    "    \"\"\"\n",
    "\n",
    "    def __init__(self, num, mode = keywords.TRAIN, batch=True, **kwargs):\n",
    "        \"\"\"\n",
    "        Initialize VGG module.\n",
    "\n",
    "        Args:\n",
    "            num (int): Number of channels.\n",
    "            mode (str): Mode of operation.\n",
    "            batch (bool): Flag to indicate batch normalization.\n",
    "            **kwargs: Additional keyword arguments.\n",
    "        \"\"\"\n",
    "        super(VGG, self).__init__()\n",
    "        self.mode = mode\n",
    "        self.P1 = nn.Sequential(*(VGGB16(num, self.mode)[0:3]))\n",
    "        self.P2 = nn.Sequential(*(VGGB16(num, self.mode)[3:]))\n",
    "        if mode == keywords.TRAIN:\n",
    "            for param in self.P1.parameters():\n",
    "                param.requires_grad = True\n",
    "            for param in self.P2.parameters():\n",
    "                param.requires_grad = True\n",
    "        self.M = GDWT()\n",
    "\n",
    "    def forward(self, x):\n",
    "        \"\"\"\n",
    "        Forward pass of the VGG module.\n",
    "\n",
    "        Args:\n",
    "            x (torch.Tensor): Input tensor.\n",
    "\n",
    "        Returns:\n",
    "            torch.Tensor: Output tensor after passing through VGG.\n",
    "        \"\"\"\n",
    "        z = self.P1(x)\n",
    "        y = self.P2(z) + z\n",
    "        return y"
   ]
  },
  {
   "cell_type": "code",
   "execution_count": 104,
   "metadata": {
    "tags": []
   },
   "outputs": [],
   "source": [
    "class DWT(nn.Sequential):\n",
    "    \"\"\"\n",
    "    Custom module: Discrete Wavelet Transform (DWT).\n",
    "    \"\"\"\n",
    "\n",
    "    def __init__(self, mode=None, *args, **kwargs):\n",
    "        \"\"\"\n",
    "        Initialize DWT module.\n",
    "\n",
    "        Args:\n",
    "            mode (str): Mode of DWT.\n",
    "            *args: Variable length argument list.\n",
    "            **kwargs: Arbitrary keyword arguments.\n",
    "        \"\"\"\n",
    "        super(DWT, self).__init__()\n",
    "        self.mode = mode\n",
    "\n",
    "    def forward(self, x):\n",
    "        \"\"\"\n",
    "        Forward pass of the DWT module.\n",
    "\n",
    "        Args:\n",
    "            x (torch.Tensor): Input tensor.\n",
    "\n",
    "        Returns:\n",
    "            torch.Tensor: Transformed tensor after DWT.\n",
    "        \"\"\"\n",
    "        x01 = x[:, :, 0::2, :] / 2\n",
    "        x02 = x[:, :, 1::2, :] / 2\n",
    "        x1 = x01[:, :, :, 0::2]\n",
    "        x2 = x02[:, :, :, 0::2]\n",
    "        x3 = x01[:, :, :, 1::2]\n",
    "        x4 = x02[:, :, :, 1::2]\n",
    "        x_LL = x1 + x2 + x3 + x4\n",
    "        x_HL = -x1 - x2 + x3 + x4\n",
    "        x_LH = -x1 + x2 - x3 + x4\n",
    "        x_HH = x1 - x2 - x3 + x4\n",
    "        x_High = torch.cat((x_HL.unsqueeze(2), x_LH.unsqueeze(2), x_HH.unsqueeze(2)), 2)\n",
    "        if self.mode == 'high':\n",
    "            return torch.cat((x_LL, x_HL, x_LH, x_HH), 1)\n",
    "        return x_LL, x_HL, x_LH, x_HH\n",
    "\n",
    "\n",
    "class IDWT(nn.Sequential):\n",
    "    \"\"\"\n",
    "    Custom module: Inverse Discrete Wavelet Transform (IDWT).\n",
    "    \"\"\"\n",
    "\n",
    "    def __init__(self, *args, **kwargs):\n",
    "        \"\"\"\n",
    "        Initialize IDWT module.\n",
    "\n",
    "        Args:\n",
    "            *args: Variable length argument list.\n",
    "            **kwargs: Arbitrary keyword arguments.\n",
    "        \"\"\"\n",
    "        super(IDWT, self).__init__()\n",
    "\n",
    "    def forward(self, x):\n",
    "        \"\"\"\n",
    "        Forward pass of the IDWT module.\n",
    "\n",
    "        Args:\n",
    "            x (torch.Tensor): Input tensor.\n",
    "\n",
    "        Returns:\n",
    "            torch.Tensor: Inverse transformed tensor after IDWT.\n",
    "        \"\"\"\n",
    "        r = 2\n",
    "        in_batch, in_channel, in_height, in_width = x.size()\n",
    "        out_batch, out_channel, out_height, out_width = in_batch, int(in_channel / (r ** 2)), r * in_height, r * in_width\n",
    "        x1 = x[:, 0:out_channel, :, :] / 2\n",
    "        x2 = x[:, out_channel:out_channel * 2, :, :] / 2\n",
    "        x3 = x[:, out_channel * 2:out_channel * 3, :, :] / 2\n",
    "        x4 = x[:, out_channel * 3:out_channel * 4, :, :] / 2\n",
    "        h = torch.zeros([out_batch, out_channel, out_height, out_width], requires_grad=False)\n",
    "        h[:, :, 0::2, 0::2] = x1 - x2 - x3 + x4\n",
    "        h[:, :, 1::2, 0::2] = x1 - x2 + x3 - x4\n",
    "        h[:, :, 0::2, 1::2] = x1 + x2 - x3 - x4\n",
    "        h[:, :, 1::2, 1::2] = x1 + x2 + x3 + x4\n",
    "        return h\n"
   ]
  },
  {
   "cell_type": "code",
   "execution_count": 105,
   "metadata": {
    "tags": []
   },
   "outputs": [],
   "source": [
    "class ConvRelu(nn.Module):\n",
    "    \"\"\"\n",
    "    Custom module: Convolutional layer followed by ReLU activation.\n",
    "    \"\"\"\n",
    "\n",
    "    def __init__(self, in_channels, out_channels, *args, **kwargs):\n",
    "        \"\"\"\n",
    "        Initialize ConvRelu module.\n",
    "\n",
    "        Args:\n",
    "            in_channels (int): Number of input channels.\n",
    "            out_channels (int): Number of output channels.\n",
    "            *args: Variable length argument list for nn.Conv2d.\n",
    "            **kwargs: Arbitrary keyword arguments for nn.Conv2d.\n",
    "        \"\"\"\n",
    "        super(ConvRelu, self).__init__()\n",
    "        self.in_channels = in_channels\n",
    "        self.out_channels = out_channels\n",
    "        self.M = nn.Sequential(\n",
    "            nn.Conv2d(in_channels, out_channels, *args, **kwargs),\n",
    "            nn.ReLU(True)\n",
    "        )\n",
    "\n",
    "    def forward(self, x):\n",
    "        \"\"\"\n",
    "        Forward pass of the ConvRelu module.\n",
    "\n",
    "        Args:\n",
    "            x (torch.Tensor): Input tensor.\n",
    "\n",
    "        Returns:\n",
    "            torch.Tensor: Output tensor after passing through Convolutional layer and ReLU activation.\n",
    "        \"\"\"\n",
    "        y = self.M(x)\n",
    "        return y\n",
    "\n",
    "\n",
    "class ConvBatch(nn.Module):\n",
    "    \"\"\"\n",
    "    Custom module: Convolutional layer followed by Batch Normalization.\n",
    "    \"\"\"\n",
    "\n",
    "    def __init__(self, in_channels, out_channels, *args, **kwargs):\n",
    "        \"\"\"\n",
    "        Initialize ConvBatch module.\n",
    "\n",
    "        Args:\n",
    "            in_channels (int): Number of input channels.\n",
    "            out_channels (int): Number of output channels.\n",
    "            *args: Variable length argument list for nn.Conv2d.\n",
    "            **kwargs: Arbitrary keyword arguments for nn.Conv2d.\n",
    "        \"\"\"\n",
    "        super(ConvBatch, self).__init__()\n",
    "        self.in_channels = in_channels\n",
    "        self.out_channels = out_channels\n",
    "        self.M = nn.Sequential(\n",
    "            nn.Conv2d(in_channels, out_channels, *args, **kwargs),\n",
    "            nn.BatchNorm2d(out_channels)\n",
    "        )\n",
    "\n",
    "    def forward(self, x):\n",
    "        \"\"\"\n",
    "        Forward pass of the ConvBatch module.\n",
    "\n",
    "        Args:\n",
    "            x (torch.Tensor): Input tensor.\n",
    "\n",
    "        Returns:\n",
    "            torch.Tensor: Output tensor after passing through Convolutional layer and Batch Normalization.\n",
    "        \"\"\"\n",
    "        y = self.M(x)\n",
    "        return y\n",
    "\n",
    "\n",
    "class ConvBatchRelu(nn.Module):\n",
    "    \"\"\"\n",
    "    Custom module: Convolutional layer followed by Batch Normalization and ReLU activation.\n",
    "    \"\"\"\n",
    "\n",
    "    def __init__(self, in_channels, out_channels, *args, **kwargs):\n",
    "        \"\"\"\n",
    "        Initialize ConvBatchRelu module.\n",
    "\n",
    "        Args:\n",
    "            in_channels (int): Number of input channels.\n",
    "            out_channels (int): Number of output channels.\n",
    "            *args: Variable length argument list for nn.Conv2d.\n",
    "            **kwargs: Arbitrary keyword arguments for nn.Conv2d.\n",
    "        \"\"\"\n",
    "        super(ConvBatchRelu, self).__init__()\n",
    "        self.in_channels = in_channels\n",
    "        self.out_channels = out_channels\n",
    "        self.M = nn.Sequential(\n",
    "            nn.Conv2d(in_channels, out_channels, *args, **kwargs),\n",
    "            nn.BatchNorm2d(out_channels),\n",
    "            nn.ReLU(True)\n",
    "        )\n",
    "\n",
    "    def forward(self, x):\n",
    "        \"\"\"\n",
    "        Forward pass of the ConvBatchRelu module.\n",
    "\n",
    "        Args:\n",
    "            x (torch.Tensor): Input tensor.\n",
    "\n",
    "        Returns:\n",
    "            torch.Tensor: Output tensor after passing through Convolutional layer, Batch Normalization, and ReLU activation.\n",
    "        \"\"\"\n",
    "        y = self.M(x)\n",
    "        return y\n",
    "\n",
    "\n",
    "class ConvReluBatch(nn.Module):\n",
    "    \"\"\"\n",
    "    Custom module: Convolutional layer followed by ReLU activation and Batch Normalization.\n",
    "    \"\"\"\n",
    "\n",
    "    def __init__(self, in_channels, out_channels, *args, **kwargs):\n",
    "        \"\"\"\n",
    "        Initialize ConvReluBatch module.\n",
    "\n",
    "        Args:\n",
    "            in_channels (int): Number of input channels.\n",
    "            out_channels (int): Number of output channels.\n",
    "            *args: Variable length argument list for nn.Conv2d.\n",
    "            **kwargs: Arbitrary keyword arguments for nn.Conv2d.\n",
    "        \"\"\"\n",
    "        super(ConvReluBatch, self).__init__()\n",
    "        self.in_channels = in_channels\n",
    "        self.out_channels = out_channels\n",
    "        self.M = nn.Sequential(\n",
    "            nn.Conv2d(in_channels, out_channels, *args, **kwargs),\n",
    "            nn.ReLU(True),\n",
    "            nn.BatchNorm2d(out_channels)\n",
    "        )\n",
    "\n",
    "    def forward(self, x):\n",
    "        \"\"\"\n",
    "        Forward pass of the ConvReluBatch module.\n",
    "\n",
    "        Args:\n",
    "            x (torch.Tensor): Input tensor.\n",
    "\n",
    "        Returns:\n",
    "            torch.Tensor: Output tensor after passing through Convolutional layer, ReLU activation, and Batch Normalization.\n",
    "        \"\"\"\n",
    "        y = self.M(x)\n",
    "        return y\n",
    "\n",
    "\n",
    "class NConvBatch(nn.Module):\n",
    "    \"\"\"\n",
    "    Custom module: Multiple Convolutional layers followed by Batch Normalization.\n",
    "    \"\"\"\n",
    "\n",
    "    def __init__(self, in_channels, mid_channels, out_channels, n, *args, **kwargs):\n",
    "        \"\"\"\n",
    "        Initialize NConvBatch module.\n",
    "\n",
    "        Args:\n",
    "            in_channels (int): Number of input channels.\n",
    "            mid_channels (int): Number of intermediate channels.\n",
    "            out_channels (int): Number of output channels.\n",
    "            n (int): Number of convolutional layers.\n",
    "            *args: Variable length argument list for nn.Conv2d.\n",
    "            **kwargs: Arbitrary keyword arguments for nn.Conv2d.\n",
    "        \"\"\"\n",
    "        super(NConvBatch, self).__init__()\n",
    "        self.in_channels = in_channels\n",
    "        self.out_channels = out_channels\n",
    "        self.mid_channels = mid_channels\n",
    "        self.n = n\n",
    "        assert n > 1\n",
    "        layers = []\n",
    "        channels = [in_channels] + [mid_channels] * (n - 1) + [out_channels]\n",
    "        for i in range(n):\n",
    "            conv2d = nn.Conv2d(channels[i], channels[i + 1], *args, **kwargs)\n",
    "            layers += [conv2d, nn.BatchNorm2d(channels[i + 1]), nn.ReLU(inplace=True)]\n",
    "        self.M = nn.Sequential(*layers)\n",
    "\n",
    "    def forward(self, x):\n",
    "        \"\"\"\n",
    "        Forward pass of the NConvBatch module.\n",
    "\n",
    "        Args:\n",
    "            x (torch.Tensor): Input tensor.\n",
    "\n",
    "        Returns:\n",
    "            torch.Tensor: Output tensor after passing through multiple Convolutional layers and Batch Normalization.\n",
    "        \"\"\"\n",
    "        y = self.M(x)\n",
    "        return y\n",
    "\n",
    "\n",
    "class NConv(nn.Module):\n",
    "    \"\"\"\n",
    "    Custom module: Multiple Convolutional layers.\n",
    "    \"\"\"\n",
    "\n",
    "    def __init__(self, in_channels, mid_channels, out_channels, n, *args, **kwargs):\n",
    "        \"\"\"\n",
    "        Initialize NConv module.\n",
    "\n",
    "        Args:\n",
    "            in_channels (int): Number of input channels.\n",
    "            mid_channels (int): Number of intermediate channels.\n",
    "            out_channels (int): Number of output channels.\n",
    "            n (int): Number of convolutional layers.\n",
    "            *args: Variable length argument list for nn.Conv2d.\n",
    "            **kwargs: Arbitrary keyword arguments for nn.Conv2d.\n",
    "        \"\"\"\n",
    "        super(NConv, self).__init__()\n",
    "        self.in_channels = in_channels\n",
    "        self.out_channels = out_channels\n",
    "        self.mid_channels = mid_channels\n",
    "        self.n = n\n",
    "        assert n > 1\n",
    "        layers = []\n",
    "        channels = [in_channels] + [mid_channels] * (n - 1) + [out_channels]\n",
    "        for i in range(n):\n",
    "            conv2d = nn.Conv2d(channels[i], channels[i + 1], *args, **kwargs)\n",
    "            layers += [conv2d, nn.BatchNorm2d(channels[i + 1]), nn.ReLU(inplace=True)]\n",
    "        self.M = nn.Sequential(*layers)\n",
    "\n",
    "    def forward(self, x):\n",
    "        \"\"\"\n",
    "        Forward pass of the NConv module.\n",
    "\n",
    "        Args:\n",
    "            x (torch.Tensor): Input tensor.\n",
    "\n",
    "        Returns:\n",
    "            torch.Tensor: Output tensor after passing through multiple Convolutional layers.\n",
    "        \"\"\"\n",
    "        y = self.M(x)\n",
    "        return y"
   ]
  },
  {
   "cell_type": "code",
   "execution_count": 106,
   "metadata": {
    "tags": []
   },
   "outputs": [],
   "source": [
    "class Sobel(nn.Module):\n",
    "    \"\"\"\n",
    "    Sobel edge detection module.\n",
    "    \"\"\"\n",
    "\n",
    "    def __init__(self, in_channels, out_channels, padding, dilation):\n",
    "        \"\"\"\n",
    "        Initialize the Sobel module.\n",
    "\n",
    "        Args:\n",
    "            in_channels (int): Number of input channels.\n",
    "            out_channels (int): Number of output channels.\n",
    "            padding (int): Amount of padding.\n",
    "            dilation (int): Dilation rate.\n",
    "        \"\"\"\n",
    "        super(Sobel, self).__init__()\n",
    "        self.in_channels = in_channels\n",
    "        self.out_channels = out_channels\n",
    "        self.dilation = dilation\n",
    "        self.padding = padding\n",
    "\n",
    "        # Define the Sobel filters for x and y directions\n",
    "        filter_x = torch.FloatTensor([\n",
    "            [1, 0, -1],\n",
    "            [2, 0, -2],\n",
    "            [1, 0, -1],\n",
    "        ])\n",
    "\n",
    "        filter_y = torch.FloatTensor([\n",
    "            [1, 2, 1],\n",
    "            [0, 0, 0],\n",
    "            [-1, -2, -1],\n",
    "        ])\n",
    "\n",
    "        # Expand dimensions and repeat to match input and output channels\n",
    "        filter_x = filter_x.unsqueeze(0).unsqueeze(0)\n",
    "        filter_x = filter_x.repeat(1, self.in_channels, 1, 1)\n",
    "        filter_x = filter_x.repeat(self.out_channels, 1, 1, 1)\n",
    "\n",
    "        filter_y = filter_y.unsqueeze(0).unsqueeze(0)\n",
    "        filter_y = filter_y.repeat(1, self.in_channels, 1, 1)\n",
    "        filter_y = filter_y.repeat(self.out_channels, 1, 1, 1)\n",
    "\n",
    "        # Convert filters to parameters\n",
    "        filter_x = nn.Parameter(filter_x, requires_grad=False)\n",
    "        filter_y = nn.Parameter(filter_y, requires_grad=False)\n",
    "\n",
    "        # Create convolution layers for x and y directions\n",
    "        conv_x = nn.Conv2d(self.in_channels, self.out_channels, kernel_size=3, stride=1, padding=self.padding, dilation=self.dilation, bias=False)\n",
    "        conv_x.weight = filter_x\n",
    "\n",
    "        conv_y = nn.Conv2d(self.in_channels, self.out_channels, kernel_size=3, stride=1, padding=self.padding, dilation=self.dilation, bias=False)\n",
    "        conv_y.weight = filter_y\n",
    "\n",
    "        # Combine convolution layers with batch normalization\n",
    "        self.sobel_x = nn.Sequential(conv_x, nn.BatchNorm2d(self.out_channels))\n",
    "        self.sobel_y = nn.Sequential(conv_y, nn.BatchNorm2d(self.out_channels))\n",
    "\n",
    "    def forward(self, x):\n",
    "        \"\"\"\n",
    "        Forward pass of the Sobel module.\n",
    "\n",
    "        Args:\n",
    "            x (torch.Tensor): Input tensor.\n",
    "\n",
    "        Returns:\n",
    "            torch.Tensor: Output tensor after applying Sobel edge detection.\n",
    "        \"\"\"\n",
    "        # Apply Sobel operators for x and y directions\n",
    "        g_x = self.sobel_x(x)\n",
    "        g_y = self.sobel_y(x)\n",
    "\n",
    "        # Calculate gradient magnitude\n",
    "        g = torch.sqrt(torch.pow(g_x, 2) + torch.pow(g_y, 2) + 1e-6)\n",
    "\n",
    "        # Apply sigmoid activation\n",
    "        return torch.sigmoid(g)"
   ]
  },
  {
   "cell_type": "code",
   "execution_count": 107,
   "metadata": {
    "tags": []
   },
   "outputs": [],
   "source": [
    "class BayarConv2dandnoise(nn.Module):\n",
    "    \"\"\"\n",
    "    Bayar Convolutional Layer with noise.\n",
    "\n",
    "    Args:\n",
    "        in_channels (int): Number of input channels.\n",
    "        out_channels (int): Number of output channels.\n",
    "        kernel_size (int): Size of the kernel.\n",
    "        stride (int): Stride of the convolution operation.\n",
    "        padding (int): Padding size.\n",
    "\n",
    "    Attributes:\n",
    "        in_channels (int): Number of input channels.\n",
    "        out_channels (int): Number of output channels.\n",
    "        kernel_size (int): Size of the kernel.\n",
    "        stride (int): Stride of the convolution operation.\n",
    "        padding (int): Padding size.\n",
    "        minus1 (torch.Tensor): Tensor of shape (in_channels, out_channels, 1) with values -1.000.\n",
    "        kernel (nn.Parameter): Learnable parameter of shape (in_channels, out_channels, kernel_size ** 2 - 1).\n",
    "\n",
    "    \"\"\"\n",
    "\n",
    "    def __init__(self, in_channels, out_channels, kernel_size=5, stride=1, padding=2):\n",
    "        super(BayarConv2dandnoise, self).__init__()\n",
    "        self.in_channels = in_channels\n",
    "        self.out_channels = out_channels\n",
    "        self.kernel_size = kernel_size\n",
    "        self.stride = stride\n",
    "        self.padding = padding\n",
    "        self.minus1 = torch.ones(self.in_channels, self.out_channels, 1) * -1.000\n",
    "\n",
    "        self.kernel = nn.Parameter(torch.rand(self.in_channels, self.out_channels, kernel_size ** 2 - 1),\n",
    "                                   requires_grad=True)\n",
    "\n",
    "    def bayarConstraint(self):\n",
    "        \"\"\"\n",
    "        Apply Bayar constraint to the kernel parameter.\n",
    "\n",
    "        Returns:\n",
    "            torch.Tensor: Real kernel tensor after applying the Bayar constraint.\n",
    "\n",
    "        \"\"\"\n",
    "        self.kernel.data = self.kernel.permute(2, 0, 1)\n",
    "        self.kernel.data = torch.div(self.kernel.data, self.kernel.data.sum(0))\n",
    "        self.kernel.data = self.kernel.permute(1, 2, 0)\n",
    "        ctr = self.kernel_size ** 2 // 2\n",
    "        real_kernel = torch.cat((self.kernel[:, :, :ctr], self.minus1.to(self.kernel.device), self.kernel[:, :, ctr:]),\n",
    "                                dim=2)\n",
    "        real_kernel = real_kernel.reshape((self.out_channels, self.in_channels, self.kernel_size, self.kernel_size))\n",
    "        return real_kernel\n",
    "\n",
    "    def forward(self, x):\n",
    "        \"\"\"\n",
    "        Forward pass of the BayarConv2dandnoise module.\n",
    "\n",
    "        Args:\n",
    "            x (torch.Tensor): Input tensor.\n",
    "\n",
    "        Returns:\n",
    "            torch.Tensor: Output tensor after applying the BayarConv2dandnoise operation.\n",
    "\n",
    "        \"\"\"\n",
    "        x = F.conv2d(x, self.bayarConstraint(), bias=None, stride=self.stride, padding=self.padding, groups=1)\n",
    "        return x"
   ]
  },
  {
   "cell_type": "code",
   "execution_count": 108,
   "metadata": {
    "tags": []
   },
   "outputs": [],
   "source": [
    "class _PositionAttentionModule(nn.Module):\n",
    "    \"\"\"\n",
    "    Position attention module.\n",
    "\n",
    "    Args:\n",
    "        in_channels (int): Number of input channels.\n",
    "\n",
    "    \"\"\"\n",
    "\n",
    "    def __init__(self, in_channels, **kwargs):\n",
    "        super(_PositionAttentionModule, self).__init__()\n",
    "        self.conv_b = nn.Conv2d(in_channels, in_channels // 8, 1)\n",
    "        self.conv_c = nn.Conv2d(in_channels, in_channels // 8, 1)\n",
    "        self.conv_d = nn.Conv2d(in_channels, in_channels, 1)\n",
    "        self.alpha = nn.Parameter(torch.zeros(1))\n",
    "        self.softmax = nn.Softmax(dim=-1)\n",
    "\n",
    "    def forward(self, x):\n",
    "        \"\"\"\n",
    "        Forward pass of the PositionAttentionModule.\n",
    "\n",
    "        Args:\n",
    "            x (torch.Tensor): Input tensor.\n",
    "\n",
    "        Returns:\n",
    "            torch.Tensor: Output tensor after applying the PositionAttentionModule.\n",
    "\n",
    "        \"\"\"\n",
    "        batch_size, _, height, width = x.size()\n",
    "        feat_b = self.conv_b(x).view(batch_size, -1, height * width).permute(0, 2, 1)\n",
    "        feat_c = self.conv_c(x).view(batch_size, -1, height * width)\n",
    "        attention_s = self.softmax(torch.bmm(feat_b, feat_c))\n",
    "        feat_d = self.conv_d(x).view(batch_size, -1, height * width)\n",
    "        feat_e = torch.bmm(feat_d, attention_s.permute(0, 2, 1)).view(batch_size, -1, height, width)\n",
    "        out = self.alpha * feat_e + x\n",
    "\n",
    "        return out\n",
    "\n",
    "\n",
    "class _ChannelAttentionModule(nn.Module):\n",
    "    \"\"\"\n",
    "    Channel attention module.\n",
    "\n",
    "    \"\"\"\n",
    "\n",
    "    def __init__(self, **kwargs):\n",
    "        super(_ChannelAttentionModule, self).__init__()\n",
    "        self.beta = nn.Parameter(torch.zeros(1))\n",
    "        self.softmax = nn.Softmax(dim=-1)\n",
    "\n",
    "    def forward(self, x):\n",
    "        \"\"\"\n",
    "        Forward pass of the ChannelAttentionModule.\n",
    "\n",
    "        Args:\n",
    "            x (torch.Tensor): Input tensor.\n",
    "\n",
    "        Returns:\n",
    "            torch.Tensor: Output tensor after applying the ChannelAttentionModule.\n",
    "\n",
    "        \"\"\"\n",
    "        batch_size, _, height, width = x.size()\n",
    "        feat_a = x.view(batch_size, -1, height * width)\n",
    "        feat_a_transpose = x.view(batch_size, -1, height * width).permute(0, 2, 1)\n",
    "        attention = torch.bmm(feat_a, feat_a_transpose)\n",
    "        attention_new = torch.max(attention, dim=-1, keepdim=True)[0].expand_as(attention) - attention\n",
    "        attention = self.softmax(attention_new)\n",
    "\n",
    "        feat_e = torch.bmm(attention, feat_a).view(batch_size, -1, height, width)\n",
    "        out = self.beta * feat_e + x\n",
    "\n",
    "        return out"
   ]
  },
  {
   "cell_type": "code",
   "execution_count": 109,
   "metadata": {
    "tags": []
   },
   "outputs": [],
   "source": [
    "class Sob(nn.Module):\n",
    "    \"\"\"\n",
    "    Sobel module.\n",
    "\n",
    "    Args:\n",
    "        in_chan (int): Number of input channels.\n",
    "        och (int): Number of output channels.\n",
    "\n",
    "    \"\"\"\n",
    "\n",
    "    def __init__(self, in_chan, och, **kwargs):\n",
    "        super(Sob, self).__init__()\n",
    "        self.in_chan = in_chan\n",
    "        self.C = conv_batch_relu(self.in_chan, och, kernel_size=3, stride=1, padding=1, dilation=1, bias=False)\n",
    "        self.sob = Sobel(self.in_chan, 1, 1, 1)\n",
    "\n",
    "    def forward(self, x):\n",
    "        \"\"\"\n",
    "        Forward pass of the Sob module.\n",
    "\n",
    "        Args:\n",
    "            x (torch.Tensor): Input tensor.\n",
    "\n",
    "        Returns:\n",
    "            torch.Tensor: Output tensor after applying the Sob module.\n",
    "\n",
    "        \"\"\"\n",
    "        q = self.sob(x) * x\n",
    "        gama6 = self.C(q)\n",
    "        return gama6"
   ]
  },
  {
   "cell_type": "code",
   "execution_count": 110,
   "metadata": {
    "tags": []
   },
   "outputs": [],
   "source": [
    "class EE(nn.Module):\n",
    "    \"\"\"\n",
    "    EE module.\n",
    "\n",
    "    Args:\n",
    "        inchan (int): Number of input channels.\n",
    "\n",
    "    \"\"\"\n",
    "\n",
    "    def __init__(self, inchan):\n",
    "        super(EE, self).__init__()\n",
    "        self.PA1 = _PositionAttentionModule(inchan // 2)\n",
    "        self.PA2 = _PositionAttentionModule(inchan // 2)\n",
    "        self.c1 = conv_batch_relu(inchan, inchan // 2, kernel_size=1, stride=1, padding=0, dilation=1, bias=False)\n",
    "        self.c2 = conv_batch_relu(inchan, inchan // 2, kernel_size=1, stride=1, padding=0, dilation=1, bias=False)\n",
    "\n",
    "    def forward(self, x):\n",
    "        \"\"\"\n",
    "        Forward pass of the EE module.\n",
    "\n",
    "        Args:\n",
    "            x (torch.Tensor): Input tensor.\n",
    "\n",
    "        Returns:\n",
    "            torch.Tensor: Output tensor after applying the EE module.\n",
    "\n",
    "        \"\"\"\n",
    "        xz1 = self.c1(x)\n",
    "        xz2 = self.c2(x)\n",
    "        x1 = F.avg_pool2d(xz1, kernel_size=2, padding=1, stride=1)\n",
    "        z1 = TF.resize(x1, (xz1.shape[2], xz1.shape[2]))\n",
    "        x2 = self.PA1(xz1 + xz1 - z1)\n",
    "        x3 = self.PA2(xz2)\n",
    "        x5 = torch.cat((x, x2, x3), 1)\n",
    "        return x5"
   ]
  },
  {
   "cell_type": "code",
   "execution_count": 111,
   "metadata": {
    "tags": []
   },
   "outputs": [],
   "source": [
    "class ASPD(nn.Module):\n",
    "    \"\"\"\n",
    "    ASPD module.\n",
    "\n",
    "    Args:\n",
    "        inchan (int): Number of input channels.\n",
    "        och (int): Number of output channels.\n",
    "        och1 (int): Number of intermediate output channels.\n",
    "        dil (list): List of dilation factors.\n",
    "\n",
    "    \"\"\"\n",
    "\n",
    "    def __init__(self, inchan, och, och1, dil):\n",
    "        super(ASPD, self).__init__()\n",
    "        self.inchan = inchan\n",
    "        self.dil = dil\n",
    "\n",
    "        # Branch 1\n",
    "        self.conv1 = conv_batch_relu(inchan, och, kernel_size=3, stride=1, dilation=self.dil[0], padding=self.dil[0],\n",
    "                                     bias=False)\n",
    "        self.conv11 = conv_batch_relu(och, och, kernel_size=3, stride=1, dilation=self.dil[0], padding=self.dil[0],\n",
    "                                      bias=False)\n",
    "        self.conv111 = conv_batch_relu(och, och, kernel_size=3, stride=1, dilation=self.dil[0], padding=self.dil[0],\n",
    "                                       bias=False)\n",
    "\n",
    "        # Branch 2\n",
    "        self.conv2 = conv_batch_relu(inchan, och, kernel_size=3, stride=1, dilation=self.dil[1], padding=self.dil[1],\n",
    "                                     bias=False)\n",
    "        self.conv22 = conv_batch_relu(och, och, kernel_size=3, stride=1, dilation=self.dil[1], padding=self.dil[1],\n",
    "                                      bias=False)\n",
    "        self.conv222 = conv_batch_relu(och, och, kernel_size=3, stride=1, dilation=self.dil[1], padding=self.dil[1],\n",
    "                                       bias=False)\n",
    "\n",
    "        # Branch 3\n",
    "        self.conv3 = conv_batch_relu(inchan, och, kernel_size=3, stride=1, dilation=self.dil[2], padding=self.dil[2],\n",
    "                                     bias=False)\n",
    "        self.conv33 = conv_batch_relu(och, och, kernel_size=3, stride=1, dilation=self.dil[2], padding=self.dil[2],\n",
    "                                      bias=False)\n",
    "        self.conv333 = conv_batch_relu(och, och, kernel_size=3, stride=1, dilation=self.dil[2], padding=self.dil[2],\n",
    "                                       bias=False)\n",
    "\n",
    "        # Branch 4\n",
    "        self.conv4 = conv_batch_relu(inchan, och, kernel_size=3, stride=1, dilation=self.dil[3], padding=self.dil[3],\n",
    "                                     bias=False)\n",
    "        self.conv44 = conv_batch_relu(och, och, kernel_size=3, stride=1, dilation=self.dil[3], padding=self.dil[3],\n",
    "                                      bias=False)\n",
    "        self.conv444 = conv_batch_relu(och, och, kernel_size=3, stride=1, dilation=self.dil[3], padding=self.dil[3],\n",
    "                                       bias=False)\n",
    "\n",
    "    def forward(self, x):\n",
    "        \"\"\"\n",
    "        Forward pass of the ASPD module.\n",
    "\n",
    "        Args:\n",
    "            x (torch.Tensor): Input tensor.\n",
    "\n",
    "        Returns:\n",
    "            torch.Tensor: Output tensor after applying the ASPD module.\n",
    "\n",
    "        \"\"\"\n",
    "        x1 = self.conv1(x)\n",
    "        x2 = self.conv2(x)\n",
    "        x3 = self.conv3(x)\n",
    "        x4 = self.conv4(x)\n",
    "\n",
    "        x11 = self.conv11(x1 + x2)\n",
    "        x22 = self.conv22(x2 + x1 + x3)\n",
    "        x33 = self.conv33(x3 + x2 + x4)\n",
    "        x44 = self.conv44(x4 + x3)\n",
    "\n",
    "        x111 = self.conv111(x11 + x22)\n",
    "        x222 = self.conv222(x22 + x11 + x33)\n",
    "        x333 = self.conv333(x33 + x22 + x44)\n",
    "        x444 = self.conv444(x44 + x33)\n",
    "\n",
    "        x5 = torch.cat((x111, x222, x333, x444), 1)\n",
    "        return x5"
   ]
  },
  {
   "cell_type": "code",
   "execution_count": 112,
   "metadata": {
    "tags": []
   },
   "outputs": [],
   "source": [
    "class NoiseBlock(nn.Module):\n",
    "    \"\"\"\n",
    "    NoiseBlock module.\n",
    "\n",
    "    Args:\n",
    "        inchan (int): Number of input channels.\n",
    "        midchan (int): Number of intermediate channels.\n",
    "        d (int): Dilation factor for the backward noise block.\n",
    "\n",
    "    \"\"\"\n",
    "\n",
    "    def __init__(self, inchan, midchan, d=1, **kwargs):\n",
    "        super(NoiseBlock, self).__init__()\n",
    "        self.inchan = inchan\n",
    "        self.midchan = midchan\n",
    "\n",
    "        # Forward noise block\n",
    "        self.NoiseF = conv_relu_batch(self.inchan, self.midchan, kernel_size=3, padding=1, bias=False)\n",
    "\n",
    "        # Backward noise block\n",
    "        self.NoiseB = n_conv_batch(self.midchan, self.midchan, self.midchan, 2, kernel_size=3, padding=d,\n",
    "                                   dilation=d, bias=False)\n",
    "\n",
    "        # Gradient Domain Wavelet Transform\n",
    "        self.M = GDWT()\n",
    "\n",
    "    def forward(self, x):\n",
    "        \"\"\"\n",
    "        Forward pass of the NoiseBlock module.\n",
    "\n",
    "        Args:\n",
    "            x (torch.Tensor): Input tensor.\n",
    "\n",
    "        Returns:\n",
    "            torch.Tensor: Output tensor after applying the NoiseBlock module.\n",
    "\n",
    "        \"\"\"\n",
    "        x1 = self.NoiseF(x)\n",
    "        x2 = self.NoiseB(x1)\n",
    "        x3 = x1 + x2\n",
    "\n",
    "        if self.inchan == 3:\n",
    "            x3 = self.M(x3)\n",
    "\n",
    "        return x3"
   ]
  },
  {
   "cell_type": "code",
   "execution_count": 113,
   "metadata": {
    "papermill": {
     "duration": 0.091935,
     "end_time": "2021-12-22T10:50:28.414762",
     "exception": false,
     "start_time": "2021-12-22T10:50:28.322827",
     "status": "completed"
    },
    "tags": []
   },
   "outputs": [],
   "source": [
    "class WUNet(nn.Module):\n",
    "    \"\"\"\n",
    "    WUNet module.\n",
    "\n",
    "    Args:\n",
    "        mode (str): Mode of the WUNet module.\n",
    "\n",
    "    \"\"\"\n",
    "\n",
    "    def __init__(self, mode='TRAIN'):\n",
    "        super(WUNet, self).__init__()\n",
    "        self.mode = mode\n",
    "\n",
    "        # Noise layer\n",
    "        self.noise = BayarConv2dandnoise(3, 3)\n",
    "\n",
    "        # Gradient Domain Wavelet Transform\n",
    "        self.M1 = GDWT()\n",
    "        self.M2 = GDWT()\n",
    "        self.M3 = GDWT()\n",
    "        self.M4 = GDWT()\n",
    "        self.M5 = GDWT()\n",
    "        self.M6 = GDWT()\n",
    "        self.M7 = GDWT()\n",
    "        self.M8 = GDWT()\n",
    "\n",
    "        # One21 convolution\n",
    "        self.one21 = conv_batch_relu(64, 64, kernel_size=3, stride=2, padding=1, bias=False)\n",
    "\n",
    "        # One22 convolution\n",
    "        self.one22 = conv_batch_relu(64, 64, kernel_size=3, stride=4, padding=1, bias=False)\n",
    "\n",
    "        # One23 convolution\n",
    "        self.one23 = conv_batch_relu(64, 64, kernel_size=3, stride=4, padding=1, bias=False)\n",
    "\n",
    "        # Two22 convolution\n",
    "        self.two22 = conv_batch_relu(128, 128, kernel_size=3, stride=2, padding=1, bias=False)\n",
    "\n",
    "        # Two23 convolution\n",
    "        self.two23 = conv_batch_relu(128, 128, kernel_size=3, stride=2, padding=1, bias=False)\n",
    "\n",
    "        # None21 convolution\n",
    "        self.none21 = conv_batch_relu(64, 64, kernel_size=3, stride=2, padding=1, bias=False)\n",
    "\n",
    "        # None22 convolution\n",
    "        self.none22 = conv_batch_relu(64, 64, kernel_size=3, stride=4, padding=1, bias=False)\n",
    "\n",
    "        # None23 convolution\n",
    "        self.none23 = conv_batch_relu(64, 64, kernel_size=3, stride=4, padding=1, bias=False)\n",
    "\n",
    "        # Ntwo22 convolution\n",
    "        self.ntwo22 = conv_batch_relu(128, 128, kernel_size=3, stride=2, padding=1, bias=False)\n",
    "\n",
    "        # Ntwo23 convolution\n",
    "        self.ntwo23 = conv_batch_relu(128, 128, kernel_size=3, stride=2, padding=1, bias=False)\n",
    "\n",
    "        # CD1 convolution\n",
    "        self.cd1 = conv_batch_relu(128, 64, kernel_size=3, padding=1, bias=False)\n",
    "\n",
    "        # CD2 convolution\n",
    "        self.cd2 = conv_batch_relu(320, 128, kernel_size=3, padding=1, bias=False)\n",
    "\n",
    "        # CD3 convolution\n",
    "        self.cd3 = conv_batch_relu(448, 256, kernel_size=3, padding=1, bias=False)\n",
    "\n",
    "        # NCD1 convolution\n",
    "        self.ncd1 = conv_batch_relu(128, 64, kernel_size=3, padding=1, bias=False)\n",
    "\n",
    "        # NCD2 convolution\n",
    "        self.ncd2 = conv_batch_relu(320, 128, kernel_size=3, padding=1, bias=False)\n",
    "\n",
    "        # NCD3 convolution\n",
    "        self.ncd3 = conv_batch_relu(448, 256, kernel_size=3, padding=1, bias=False)\n",
    "\n",
    "        # ASPD1 module\n",
    "        self.ASPD1 = ASPD(512, 256, 512, [1, 3, 6, 12, 18])\n",
    "\n",
    "        # Sob1 module\n",
    "        self.so1 = Sob(64, 3)\n",
    "\n",
    "        # Sob2 module\n",
    "        self.so2 = Sob(64, 3)\n",
    "\n",
    "        # Sob3 module\n",
    "        self.so3 = Sob(128, 1)\n",
    "\n",
    "        # Sob4 module\n",
    "        self.so4 = Sob(128, 1)\n",
    "\n",
    "        # Sob5 module\n",
    "        self.so5 = Sob(256, 1)\n",
    "\n",
    "        # Sob6 module\n",
    "        self.so6 = Sob(256, 1)\n",
    "\n",
    "        # EE module\n",
    "        self.En1 = EE(1024)\n",
    "\n",
    "        # Conve1 convolution\n",
    "        self.Conve1 = nn.Conv2d(2048, 1, kernel_size=1, padding=0, bias=False)\n",
    "\n",
    "        # Conve31 convolution\n",
    "        self.Conve31 = nn.Conv2d(1, 1, kernel_size=3, padding=1, bias=False)\n",
    "\n",
    "        # Coeve1 convolution\n",
    "        self.Coeve1 = nn.Conv2d(64, 1, kernel_size=1, padding=0, bias=False)\n",
    "\n",
    "        # Coeve31 convolution\n",
    "        self.Coeve31 = nn.Conv2d(1, 1, kernel_size=3, padding=1, bias=False)\n",
    "\n",
    "        ################ Seg part\n",
    "\n",
    "        # VGG1 module\n",
    "        self.c1 = VGG(1, self.mode)\n",
    "\n",
    "        # VGG2 module\n",
    "        self.c2 = VGG(2, self.mode)\n",
    "\n",
    "        # VGG3 module\n",
    "        self.c3 = VGG(3, self.mode)\n",
    "\n",
    "        # VGG4 module\n",
    "        self.s1 = VGG(1, self.mode)\n",
    "\n",
    "        # VGG5 module\n",
    "        self.s2 = VGG(2, self.mode)\n",
    "\n",
    "        # VGG6 module\n",
    "        self.s3 = VGG(3, self.mode)\n",
    "\n",
    "        # NoiseBlock1 module\n",
    "        self.n1 = NoiseBlock(3, 16)\n",
    "\n",
    "        # NoiseBlock2 module\n",
    "        self.n2 = NoiseBlock(16, 32)\n",
    "\n",
    "        # NoiseBlock3 module\n",
    "        self.n3 = NoiseBlock(32, 64)\n",
    "\n",
    "        # Upsampling layer\n",
    "        self.os1 = nn.Upsample(scale_factor=4, mode='bilinear', align_corners=True)\n",
    "\n",
    "        # Upsampling layer\n",
    "        self.up = nn.Upsample(scale_factor=8, mode='bilinear', align_corners=True)\n",
    "\n",
    "        # Upsampling layer\n",
    "        self.up1 = nn.Upsample(scale_factor=2, mode='bilinear', align_corners=True)\n",
    "\n",
    "        # Upsampling layer\n",
    "        self.up2 = nn.Upsample(scale_factor=4, mode='bilinear', align_corners=True)\n",
    "\n",
    "        ##############################\n",
    "        self.CH = _ChannelAttentionModule()\n",
    "\n",
    "        if self.mode == keywords.TRAIN:\n",
    "            for m in self.modules():\n",
    "                if (isinstance(m, nn.Conv2d) or isinstance(m, nn.Conv1d)) and \\\n",
    "                        (m not in self.c1.modules()) and (m not in self.c2.modules()) and \\\n",
    "                        (m not in self.c3.modules()) and (m not in self.s1.modules()) and \\\n",
    "                        (m not in self.s2.modules()) and (m not in self.s3.modules()):\n",
    "                    nn.init.kaiming_normal_(m.weight, mode='fan_out', nonlinearity='relu')\n",
    "                elif isinstance(m, nn.BatchNorm2d) and \\\n",
    "                        (m not in self.c1.modules()) and (m not in self.c2.modules()) and \\\n",
    "                        (m not in self.c3.modules()) and (m not in self.s1.modules()) and \\\n",
    "                        (m not in self.s2.modules()) and (m not in self.s3.modules()):\n",
    "                    nn.init.constant_(m.weight, 1)\n",
    "                    nn.init.constant_(m.bias, 0)\n",
    "\n",
    "    def forward(self, x):\n",
    "\n",
    "        # Apply noise to the input image\n",
    "        w = self.noise(x)\n",
    "\n",
    "        # Stage 1\n",
    "        x1 = self.c1(x)\n",
    "        x2_ = self.M1(x1)\n",
    "        x2 = self.cd1(torch.cat((x2_, self.one21(x1)), 1))\n",
    "\n",
    "        y1 = self.s1(w)\n",
    "        y2_ = self.M2(y1)\n",
    "        y2 = self.ncd1(torch.cat((y2_, self.none21(y1)), 1))\n",
    "\n",
    "        s1 = self.n1(self.so1(y2) * self.so2(x2))\n",
    "\n",
    "        # Stage 2\n",
    "        x3 = self.c2(x2 + y2)\n",
    "        x4_ = self.M3(x3)\n",
    "        x4 = self.cd2(torch.cat((x4_, self.one22(x1), self.two22(x3)), 1))\n",
    "\n",
    "        y3 = self.s2(y2 + x2)\n",
    "        y4_ = self.M4(y3)\n",
    "        y4 = self.ncd2(torch.cat((y4_, self.none22(y1), self.ntwo22(y3)), 1))\n",
    "\n",
    "        s2 = self.n2(s1 * (self.so3(y4) * self.so4(x4)))\n",
    "\n",
    "        # Stage 3\n",
    "        x6_ = self.c3(x4 + y4)\n",
    "        x6 = self.cd3(torch.cat((x6_, self.one23(x1), self.two23(x3)), 1))\n",
    "\n",
    "        y6_ = self.s3(y4 + x4)\n",
    "        y6 = self.ncd3(torch.cat((y6_, self.none23(y1), self.ntwo23(y3)), 1))\n",
    "\n",
    "        s3 = self.n3(s2 * (self.so5(y6) * self.so6(x6)))\n",
    "\n",
    "        # Combine the output of stage 3\n",
    "        com = torch.cat((x6, y6), 1)\n",
    "        a6 = self.ASPD1(com)\n",
    "        aa1 = self.En1(a6)\n",
    "        aa2 = self.CH(aa1)\n",
    "\n",
    "        # Final convolution for enhanced image\n",
    "        x66 = self.Conve1(aa2)\n",
    "        x25 = self.os1(x66)\n",
    "\n",
    "        # Convolution for segmentation\n",
    "        s66 = self.Coeve1(s3)\n",
    "\n",
    "        return x25, s66"
   ]
  },
  {
   "cell_type": "code",
   "execution_count": 114,
   "metadata": {
    "tags": []
   },
   "outputs": [],
   "source": [
    "class DiceBCELoss(nn.Module):\n",
    "    \"\"\"\n",
    "    Combination of Dice loss and BCE (Binary Cross-Entropy) loss for segmentation tasks.\n",
    "    \"\"\"\n",
    "    def __init__(self, weight=None, size_average=True):\n",
    "        super(DiceBCELoss, self).__init__()\n",
    "        self.BCE = nn.BCEWithLogitsLoss(reduction='mean')\n",
    "        self.BCE1 = nn.BCEWithLogitsLoss(reduction='mean')\n",
    "        self.BCE2 = nn.BCEWithLogitsLoss(reduction='mean')\n",
    "        self.BCEE = nn.BCEWithLogitsLoss(reduction='mean')\n",
    "    \n",
    "    def forward(self, inputs, targets, smooth=1):\n",
    "        \"\"\"\n",
    "        Calculate the combined Dice loss and BCE loss.\n",
    "\n",
    "        Args:\n",
    "            inputs (tuple): Tuple containing the input tensors (segmentation, edge) for the model.\n",
    "            targets (tensor): Target tensor for the segmentation task.\n",
    "            smooth (float): Smoothing factor for Dice loss.\n",
    "\n",
    "        Returns:\n",
    "            dice_bce_loss (tensor): Combined Dice loss and BCE loss.\n",
    "\n",
    "        Note:\n",
    "            The inputs should be in the format (segmentation, edge).\n",
    "\n",
    "        \"\"\"\n",
    "        # Calculate gradients using Sobel filter\n",
    "        targete = K.filters.sobel(targets, normalized=True, eps=1e-05)\n",
    "        \n",
    "        # Resize and reshape the targets and gradients for different scales\n",
    "        targete1 = TF.resize(targete, (64, 64)).reshape(-1)\n",
    "        targets1 = TF.resize(targets, (16, 16)).reshape(-1)\n",
    "        targets2 = TF.resize(targets, (28, 28)).reshape(-1)\n",
    "        targets = targets.reshape(-1)\n",
    "        targets2 = targets2.reshape(-1)\n",
    "        targete = targete.reshape(-1)\n",
    "        \n",
    "        # Flatten and convert inputs to float\n",
    "        Binputs = inputs[0].reshape(-1).float()\n",
    "        BinputsE = inputs[1].reshape(-1).float()\n",
    "        \n",
    "        # Apply sigmoid to inputs for edge and segmentation\n",
    "        inputs_edge = torch.sigmoid(inputs[1].reshape(-1)).float()\n",
    "        inputs_seg = torch.sigmoid(inputs[0].reshape(-1)).float()\n",
    "\n",
    "        # Calculate Dice loss for segmentation\n",
    "        intersection = (inputs_seg * targets).sum()\n",
    "        dice_loss = 1 - (2. * intersection + smooth) / (inputs_seg.sum() + targets.sum() + smooth)\n",
    "        \n",
    "        # Calculate Dice loss for edge detection\n",
    "        intersection1 = (inputs_edge * targete1).sum()\n",
    "        dice_loss1 = 1 - (2. * intersection1 + smooth) / (inputs_edge.sum() + targete1.sum() + smooth)\n",
    "        \n",
    "        # Calculate BCE loss for segmentation\n",
    "        BCE = self.BCE(Binputs, targets)\n",
    "        \n",
    "        # Calculate CEL (Cross-entropy loss) for segmentation\n",
    "        in1 = inputs_seg - inputs_seg * targets\n",
    "        in2 = targets - targets * inputs_seg\n",
    "        CEL = (in1.sum() + in2.sum()) / (inputs_seg.sum() + targets.sum())\n",
    "        \n",
    "        # Calculate weighted combination of BCE and Dice losses\n",
    "        Dice_BCE = 0.01 * BCE + 0.6 * dice_loss + dice_loss1\n",
    "        \n",
    "        return Dice_BCE"
   ]
  },
  {
   "cell_type": "code",
   "execution_count": 115,
   "metadata": {
    "tags": []
   },
   "outputs": [
    {
     "name": "stdout",
     "output_type": "stream",
     "text": [
      "DiceBCELoss(\n",
      "  (BCE): BCEWithLogitsLoss()\n",
      "  (BCE1): BCEWithLogitsLoss()\n",
      "  (BCE2): BCEWithLogitsLoss()\n",
      "  (BCEE): BCEWithLogitsLoss()\n",
      ")\n"
     ]
    }
   ],
   "source": [
    "criterion = DiceBCELoss()\n",
    "print(criterion)"
   ]
  },
  {
   "cell_type": "code",
   "execution_count": 116,
   "metadata": {
    "papermill": {
     "duration": 4.470205,
     "end_time": "2021-12-22T10:50:33.118651",
     "exception": false,
     "start_time": "2021-12-22T10:50:28.648446",
     "status": "completed"
    },
    "scrolled": true,
    "tags": []
   },
   "outputs": [
    {
     "name": "stderr",
     "output_type": "stream",
     "text": [
      "C:\\Users\\yaswa\\anaconda3\\lib\\site-packages\\torchvision\\models\\_utils.py:208: UserWarning: The parameter 'pretrained' is deprecated since 0.13 and may be removed in the future, please use 'weights' instead.\n",
      "  warnings.warn(\n",
      "C:\\Users\\yaswa\\anaconda3\\lib\\site-packages\\torchvision\\models\\_utils.py:223: UserWarning: Arguments other than a weight enum or `None` for 'weights' are deprecated since 0.13 and may be removed in the future. The current behavior is equivalent to passing `weights=VGG16_BN_Weights.IMAGENET1K_V1`. You can also use `weights=VGG16_BN_Weights.DEFAULT` to get the most up-to-date weights.\n",
      "  warnings.warn(msg)\n"
     ]
    },
    {
     "name": "stdout",
     "output_type": "stream",
     "text": [
      "Adjusting learning rate of group 0 to 2.0000e-04.\n"
     ]
    }
   ],
   "source": [
    "device = torch.device(\"cuda\" if torch.cuda.is_available() else \"cpu\")\n",
    "\n",
    "net = WUNet(keywords.TRAIN).to(device)\n",
    "optimizer = optim.Adam(params=net.parameters(), lr=0.0002)\n",
    "exp_lr_scheduler = optim.lr_scheduler.MultiStepLR(optimizer, [50, 90], gamma=0.1, verbose=True)\n",
    "\n",
    "# Load pre-trained model checkpoint\n",
    "checkpoint = torch.load(keywords.casia_model_path, map_location=device)\n",
    "net.load_state_dict(checkpoint['model_state_dict'], strict=False)\n",
    "optimizer.load_state_dict(checkpoint['optimizer_state_dict'])\n",
    "exp_lr_scheduler.load_state_dict(checkpoint['scheduler'])\n",
    "\n"
   ]
  },
  {
   "cell_type": "code",
   "execution_count": 117,
   "metadata": {
    "tags": []
   },
   "outputs": [],
   "source": [
    "import torch\n",
    "import matplotlib.pyplot as plt\n",
    "\n",
    "class SaveBestModel:\n",
    "    \"\"\"Class to save the best model based on validation loss during training.\"\"\"\n",
    "\n",
    "    def __init__(self, best_valid_loss=float('inf')):\n",
    "        \"\"\"\n",
    "        Initialize the SaveBestModel object.\n",
    "\n",
    "        Args:\n",
    "            best_valid_loss (float, optional): Best validation loss. Default is infinity.\n",
    "\n",
    "        \"\"\"\n",
    "        self.best_valid_loss = best_valid_loss\n",
    "\n",
    "    def __call__(self, current_valid_loss, epoch, model, optimizer, exp_lr_scheduler):\n",
    "        \"\"\"\n",
    "        Call method to save the best model based on validation loss.\n",
    "\n",
    "        Args:\n",
    "            current_valid_loss (float): Current validation loss.\n",
    "            epoch (int): Current epoch.\n",
    "            model (torch.nn.Module): Model to be saved.\n",
    "            optimizer (torch.optim.Optimizer): Optimizer used for training.\n",
    "            exp_lr_scheduler (torch.optim.lr_scheduler._LRScheduler): Learning rate scheduler.\n",
    "\n",
    "        \"\"\"\n",
    "        if current_valid_loss < self.best_valid_loss and epoch > 30:\n",
    "            self.best_valid_loss = current_valid_loss\n",
    "            print(f\"\\nBest validation loss: {self.best_valid_loss}\")\n",
    "            print(f\"\\nSaving best model for epoch: {epoch+1}\\n\")\n",
    "            torch.save({\n",
    "                'epoch': epoch + 1,\n",
    "                'model_state_dict': model.state_dict(),\n",
    "                'optimizer_state_dict': optimizer.state_dict(),\n",
    "                'scheduler': exp_lr_scheduler.state_dict()\n",
    "            }, 'Model.pth')\n",
    "\n",
    "# Create an instance of SaveBestModel\n",
    "bestloss = SaveBestModel()"
   ]
  },
  {
   "cell_type": "code",
   "execution_count": 118,
   "metadata": {
    "papermill": {
     "duration": 0.055667,
     "end_time": "2021-12-22T10:50:33.217745",
     "exception": false,
     "start_time": "2021-12-22T10:50:33.162078",
     "status": "completed"
    },
    "scrolled": true,
    "tags": []
   },
   "outputs": [],
   "source": [
    "from torch.cuda.amp import GradScaler, autocast\n",
    "\n",
    "gradient_accumulations = 4\n",
    "\n",
    "def train_model(num_epoch, model, traindata, validata):\n",
    "    \"\"\"\n",
    "    Function to train the model.\n",
    "\n",
    "    Args:\n",
    "        num_epoch (int): Number of epochs.\n",
    "        model (torch.nn.Module): Model to be trained.\n",
    "        traindata (DataLoader): DataLoader for training data.\n",
    "        validata (DataLoader): DataLoader for validation data.\n",
    "\n",
    "    Returns:\n",
    "        tuple: Train loss, validation loss, accuracy, F1 score, recall, and precision.\n",
    "\n",
    "    \"\"\"\n",
    "    scaler = GradScaler()\n",
    "    train_loss_values = []\n",
    "    valid_loss_values = []\n",
    "    train_loss = 0\n",
    "    acc1 = 0\n",
    "    ft1 = 0\n",
    "    pr1 = 0\n",
    "    re1 = 0\n",
    "\n",
    "    if torch.cuda.is_available():\n",
    "        model.train().cuda()\n",
    "    else:\n",
    "        model.train()\n",
    "\n",
    "    min_valid_loss = np.inf\n",
    "\n",
    "    for batch_idx, (data) in enumerate(train_loader):\n",
    "        if torch.cuda.is_available():\n",
    "            data, target = data['image'].cuda(), data['landmarks'].cuda()\n",
    "        else:\n",
    "            data, target = data['image'], data['landmarks']\n",
    "\n",
    "        output = model(data)\n",
    "\n",
    "        loss = criterion(output, target).float()\n",
    "        train_loss = train_loss + loss.item()\n",
    "        f1, AUC, pr, re, acc = calculate_pixel_f1(torch.sigmoid(output[0]), target)\n",
    "        acc1 = acc1 + acc\n",
    "        ft1 = ft1 + f1\n",
    "        pr1 = pr1 + pr\n",
    "        re1 = re1 + re\n",
    "\n",
    "        (loss).backward()\n",
    "        optimizer.step()\n",
    "        optimizer.zero_grad()\n",
    "\n",
    "        print('TEpoch {}: [{}/{} ({:.0f}%)]- Loss: {:.8f} - f1:{:.6f} - acc:{:.6f} - reca:{:.6f} - pre:{:.6f}'.format(\n",
    "            num_epoch + 1, (batch_idx) * batch, (len(train_loader.dataset)),\n",
    "            100. * ((batch_idx)) / (len(train_loader)), loss.item(), f1, acc, re, pr))\n",
    "\n",
    "    train_loss_values.append(train_loss / len(TData))\n",
    "    val_loss = evali(num_epoch, model, validata, optimizer, exp_lr_scheduler)\n",
    "    valid_loss_values.append(val_loss[0] / len(VData))\n",
    "    exp_lr_scheduler.step()\n",
    "\n",
    "    return train_loss / (batch_idx + 1), val_loss[0], acc1 / (batch_idx + 1), val_loss[1], ft1 / (batch_idx + 1), val_loss[2], re1 / (batch_idx + 1), val_loss[3], pr1 / (batch_idx + 1), val_loss[4]\n",
    "\n",
    "def evali(num_epoch, model, validata, optimizer=None, exp_lr_scheduler=None):\n",
    "    \"\"\"\n",
    "    Function to evaluate the model on validation data.\n",
    "\n",
    "    Args:\n",
    "        num_epoch (int): Number of epochs.\n",
    "        model (torch.nn.Module): Model to be evaluated.\n",
    "        validata (DataLoader): DataLoader for validation data.\n",
    "        optimizer (torch.optim.Optimizer, optional): Optimizer used for training. Default is None.\n",
    "        exp_lr_scheduler (torch.optim.lr_scheduler._LRScheduler, optional): Learning rate scheduler. Default is None.\n",
    "\n",
    "    Returns:\n",
    "        tuple: Validation loss, accuracy, F1 score, recall, and precision.\n",
    "\n",
    "    \"\"\"\n",
    "    print(\"\\nValidation Part:\\n\")\n",
    "    valid_loss = 0.0\n",
    "    aucv = 0\n",
    "    fv1 = 0\n",
    "    vrec = 0\n",
    "    vpr = 0\n",
    "\n",
    "    model.eval()\n",
    "\n",
    "    for batch_idx, (data) in enumerate(validata):\n",
    "        if torch.cuda.is_available():\n",
    "            datas, labels = data['image'].cuda(), data['landmarks'].cuda()\n",
    "        else:\n",
    "            datas, labels = data['image'], data['landmarks']\n",
    "\n",
    "        target = model(datas)\n",
    "        vloss = criterion(target, labels).float()\n",
    "        valid_loss = (vloss).item() + valid_loss\n",
    "        f1, AUC, pr, re, acc = calculate_pixel_f1(torch.sigmoid(target[0]), labels)\n",
    "        aucv = aucv + acc\n",
    "        fv1 = fv1 + f1\n",
    "        vrec = vrec + re\n",
    "        vpr = vpr + pr\n",
    "\n",
    "        print('VEpoch {}: [{}/{} ({:.0f}%)]  -  Loss: {:.8f}  -  f1:{:.6f}  -  acc:{:.6f}'.format(\n",
    "            num_epoch + 1, (batch_idx) * batch, (len(test_loader.dataset)),\n",
    "            100. * ((batch_idx)) / (len(test_loader)), vloss.item(), f1, AUC))\n",
    "\n",
    "    bestloss(valid_loss / (batch_idx + 1), num_epoch, model, optimizer, exp_lr_scheduler)\n",
    "\n",
    "    return valid_loss / (batch_idx + 1), aucv / (batch_idx + 1), fv1 / (batch_idx + 1), vrec / (batch_idx + 1), vpr / (batch_idx + 1)"
   ]
  },
  {
   "cell_type": "code",
   "execution_count": 119,
   "metadata": {},
   "outputs": [],
   "source": [
    "from torch.cuda.amp import GradScaler, autocast\n",
    "\n",
    "gradient_accumulations = 4\n",
    "\n",
    "def train_model(num_epoch, model, traindata, validata):\n",
    "    \"\"\"\n",
    "    Function to train the model.\n",
    "\n",
    "    Args:\n",
    "        num_epoch (int): Number of epochs.\n",
    "        model (torch.nn.Module): Model to be trained.\n",
    "        traindata (DataLoader): DataLoader for training data.\n",
    "        validata (DataLoader): DataLoader for validation data.\n",
    "\n",
    "    Returns:\n",
    "        tuple: Train loss, validation loss, accuracy, F1 score, recall, and precision.\n",
    "\n",
    "    \"\"\"\n",
    "    scaler = GradScaler()\n",
    "    train_loss_values = []\n",
    "    valid_loss_values = []\n",
    "    train_loss = 0\n",
    "    acc1 = 0\n",
    "    ft1 = 0\n",
    "    pr1 = 0\n",
    "    re1 = 0\n",
    "\n",
    "    if torch.cuda.is_available():\n",
    "        model.train().cuda()\n",
    "    else:\n",
    "        model.train()\n",
    "\n",
    "    min_valid_loss = np.inf\n",
    "\n",
    "    for batch_idx, (data) in enumerate(train_loader):\n",
    "        if torch.cuda.is_available():\n",
    "            data, target = data['image'].cuda(), data['landmarks'].cuda()\n",
    "        else:\n",
    "            data, target = data['image'], data['landmarks']\n",
    "\n",
    "        output = model(data)\n",
    "\n",
    "        loss = criterion(output, target).float()\n",
    "        train_loss = train_loss + loss.item()\n",
    "        f1, AUC, pr, re, acc = calculate_pixel_f1(torch.sigmoid(output[0]), target)\n",
    "        acc1 = acc1 + acc\n",
    "        ft1 = ft1 + f1\n",
    "        pr1 = pr1 + pr\n",
    "        re1 = re1 + re\n",
    "\n",
    "        (loss).backward()\n",
    "        optimizer.step()\n",
    "        optimizer.zero_grad()\n",
    "\n",
    "        print('TEpoch {}: [{}/{} ({:.0f}%)]- Loss: {:.8f} - f1:{:.6f} - acc:{:.6f} - reca:{:.6f} - pre:{:.6f}'.format(\n",
    "            num_epoch + 1, (batch_idx) * batch, (len(train_loader.dataset)),\n",
    "            100. * ((batch_idx)) / (len(train_loader)), loss.item(), f1, acc, re, pr))\n",
    "\n",
    "    train_loss_values.append(train_loss / len(TData))\n",
    "    val_loss = evali(num_epoch, model, validata, optimizer, exp_lr_scheduler)\n",
    "    valid_loss_values.append(val_loss[0] / len(VData))\n",
    "    exp_lr_scheduler.step()\n",
    "\n",
    "    return (\n",
    "        train_loss / (batch_idx + 1),\n",
    "        val_loss[0],\n",
    "        acc1 / (batch_idx + 1),\n",
    "        val_loss[1],\n",
    "        ft1 / (batch_idx + 1),\n",
    "        val_loss[2],\n",
    "        re1 / (batch_idx + 1),\n",
    "        val_loss[3],\n",
    "        pr1 / (batch_idx + 1),\n",
    "        val_loss[4]\n",
    "    )\n",
    "\n",
    "\n",
    "def evali(num_epoch, model, validata, optimizer=None, exp_lr_scheduler=None):\n",
    "    \"\"\"\n",
    "    Function to evaluate the model on validation data.\n",
    "\n",
    "    Args:\n",
    "        num_epoch (int): Number of epochs.\n",
    "        model (torch.nn.Module): Model to be evaluated.\n",
    "        validata (DataLoader): DataLoader for validation data.\n",
    "        optimizer (torch.optim.Optimizer, optional): Optimizer used for training. Default is None.\n",
    "        exp_lr_scheduler (torch.optim.lr_scheduler._LRScheduler, optional): Learning rate scheduler. Default is None.\n",
    "\n",
    "    Returns:\n",
    "        tuple: Validation loss, accuracy, F1 score, recall, and precision.\n",
    "\n",
    "    \"\"\"\n",
    "    print(\"\\nValidation Part:\\n\")\n",
    "    valid_loss = 0.0\n",
    "    aucv = 0\n",
    "    fv1 = 0\n",
    "    vrec = 0\n",
    "    vpr = 0\n",
    "\n",
    "    model.eval()\n",
    "\n",
    "    for batch_idx, (data) in enumerate(validata):\n",
    "        if torch.cuda.is_available():\n",
    "            datas, labels = data['image'].cuda(), data['landmarks'].cuda()\n",
    "        else:\n",
    "            datas, labels = data['image'], data['landmarks']\n",
    "\n",
    "        target = model(datas)\n",
    "        vloss = criterion(target, labels).float()\n",
    "        valid_loss = (vloss).item() + valid_loss\n",
    "        f1, AUC, pr, re, acc = calculate_pixel_f1(torch.sigmoid(target[0]), labels)\n",
    "        aucv = aucv + acc\n",
    "        fv1 = fv1 + f1\n",
    "        vrec = vrec + re\n",
    "        vpr = vpr + pr\n",
    "\n",
    "        print('VEpoch {}: [{}/{} ({:.0f}%)]  -  Loss: {:.8f}  -  f1:{:.6f}  -  acc:{:.6f}'.format(\n",
    "            num_epoch + 1, (batch_idx) * batch, (len(test_loader.dataset)),\n",
    "            100. * ((batch_idx)) / (len(test_loader)), vloss.item(), f1, AUC))\n",
    "\n",
    "    bestloss(valid_loss / (batch_idx + 1), num_epoch, model, optimizer, exp_lr_scheduler)\n",
    "\n",
    "    return (\n",
    "        valid_loss / (batch_idx + 1),\n",
    "        aucv / (batch_idx + 1),\n",
    "        fv1 / (batch_idx + 1),\n",
    "        vrec / (batch_idx + 1),\n",
    "        vpr / (batch_idx + 1)\n",
    "    )"
   ]
  },
  {
   "cell_type": "code",
   "execution_count": 120,
   "metadata": {
    "papermill": {
     "duration": 12016.607155,
     "end_time": "2021-12-22T14:10:49.867559",
     "exception": false,
     "start_time": "2021-12-22T10:50:33.260404",
     "status": "completed"
    },
    "tags": []
   },
   "outputs": [
    {
     "name": "stdout",
     "output_type": "stream",
     "text": [
      "1\n",
      "Training Part\n",
      "\n"
     ]
    },
    {
     "name": "stderr",
     "output_type": "stream",
     "text": [
      "C:\\Users\\yaswa\\anaconda3\\lib\\site-packages\\torch\\cuda\\amp\\grad_scaler.py:120: UserWarning: torch.cuda.amp.GradScaler is enabled, but CUDA is not available.  Disabling.\n",
      "  warnings.warn(\"torch.cuda.amp.GradScaler is enabled, but CUDA is not available.  Disabling.\")\n",
      "C:\\Users\\yaswa\\anaconda3\\lib\\site-packages\\torchvision\\transforms\\functional.py:1603: UserWarning: The default value of the antialias parameter of all the resizing transforms (Resize(), RandomResizedCrop(), etc.) will change from None to True in v0.17, in order to be consistent across the PIL and Tensor backends. To suppress this warning, directly pass antialias=True (recommended, future default), antialias=None (current default, which means False for Tensors and True for PIL), or antialias=False (only works on Tensors - PIL will still use antialiasing). This also applies if you are using the inference transforms from the models weights: update the call to weights.transforms(antialias=True).\n",
      "  warnings.warn(\n"
     ]
    },
    {
     "name": "stdout",
     "output_type": "stream",
     "text": [
      "TEpoch 1: [0/450 (0%)]- Loss: 1.65704465 - f1:0.050546 - acc:0.811230 - reca:0.028004 - pre:0.259128\n"
     ]
    },
    {
     "name": "stderr",
     "output_type": "stream",
     "text": [
      "C:\\Users\\yaswa\\anaconda3\\lib\\site-packages\\torchvision\\transforms\\functional.py:1603: UserWarning: The default value of the antialias parameter of all the resizing transforms (Resize(), RandomResizedCrop(), etc.) will change from None to True in v0.17, in order to be consistent across the PIL and Tensor backends. To suppress this warning, directly pass antialias=True (recommended, future default), antialias=None (current default, which means False for Tensors and True for PIL), or antialias=False (only works on Tensors - PIL will still use antialiasing). This also applies if you are using the inference transforms from the models weights: update the call to weights.transforms(antialias=True).\n",
      "  warnings.warn(\n"
     ]
    },
    {
     "name": "stdout",
     "output_type": "stream",
     "text": [
      "TEpoch 1: [10/450 (2%)]- Loss: 1.62417984 - f1:0.136436 - acc:0.743736 - reca:0.085944 - pre:0.330757\n"
     ]
    },
    {
     "name": "stderr",
     "output_type": "stream",
     "text": [
      "C:\\Users\\yaswa\\anaconda3\\lib\\site-packages\\torchvision\\transforms\\functional.py:1603: UserWarning: The default value of the antialias parameter of all the resizing transforms (Resize(), RandomResizedCrop(), etc.) will change from None to True in v0.17, in order to be consistent across the PIL and Tensor backends. To suppress this warning, directly pass antialias=True (recommended, future default), antialias=None (current default, which means False for Tensors and True for PIL), or antialias=False (only works on Tensors - PIL will still use antialiasing). This also applies if you are using the inference transforms from the models weights: update the call to weights.transforms(antialias=True).\n",
      "  warnings.warn(\n"
     ]
    },
    {
     "name": "stdout",
     "output_type": "stream",
     "text": [
      "TEpoch 1: [20/450 (4%)]- Loss: 1.61578190 - f1:0.080317 - acc:0.787186 - reca:0.051906 - pre:0.177437\n"
     ]
    },
    {
     "name": "stderr",
     "output_type": "stream",
     "text": [
      "C:\\Users\\yaswa\\anaconda3\\lib\\site-packages\\torchvision\\transforms\\functional.py:1603: UserWarning: The default value of the antialias parameter of all the resizing transforms (Resize(), RandomResizedCrop(), etc.) will change from None to True in v0.17, in order to be consistent across the PIL and Tensor backends. To suppress this warning, directly pass antialias=True (recommended, future default), antialias=None (current default, which means False for Tensors and True for PIL), or antialias=False (only works on Tensors - PIL will still use antialiasing). This also applies if you are using the inference transforms from the models weights: update the call to weights.transforms(antialias=True).\n",
      "  warnings.warn(\n"
     ]
    },
    {
     "name": "stdout",
     "output_type": "stream",
     "text": [
      "TEpoch 1: [30/450 (7%)]- Loss: 1.58460736 - f1:0.140839 - acc:0.771761 - reca:0.101951 - pre:0.227691\n"
     ]
    },
    {
     "name": "stderr",
     "output_type": "stream",
     "text": [
      "C:\\Users\\yaswa\\anaconda3\\lib\\site-packages\\torchvision\\transforms\\functional.py:1603: UserWarning: The default value of the antialias parameter of all the resizing transforms (Resize(), RandomResizedCrop(), etc.) will change from None to True in v0.17, in order to be consistent across the PIL and Tensor backends. To suppress this warning, directly pass antialias=True (recommended, future default), antialias=None (current default, which means False for Tensors and True for PIL), or antialias=False (only works on Tensors - PIL will still use antialiasing). This also applies if you are using the inference transforms from the models weights: update the call to weights.transforms(antialias=True).\n",
      "  warnings.warn(\n"
     ]
    },
    {
     "name": "stdout",
     "output_type": "stream",
     "text": [
      "TEpoch 1: [40/450 (9%)]- Loss: 1.61013937 - f1:0.143841 - acc:0.688353 - reca:0.112225 - pre:0.200259\n"
     ]
    },
    {
     "name": "stderr",
     "output_type": "stream",
     "text": [
      "C:\\Users\\yaswa\\anaconda3\\lib\\site-packages\\torchvision\\transforms\\functional.py:1603: UserWarning: The default value of the antialias parameter of all the resizing transforms (Resize(), RandomResizedCrop(), etc.) will change from None to True in v0.17, in order to be consistent across the PIL and Tensor backends. To suppress this warning, directly pass antialias=True (recommended, future default), antialias=None (current default, which means False for Tensors and True for PIL), or antialias=False (only works on Tensors - PIL will still use antialiasing). This also applies if you are using the inference transforms from the models weights: update the call to weights.transforms(antialias=True).\n",
      "  warnings.warn(\n"
     ]
    },
    {
     "name": "stdout",
     "output_type": "stream",
     "text": [
      "TEpoch 1: [50/450 (11%)]- Loss: 1.58914387 - f1:0.133608 - acc:0.764250 - reca:0.082426 - pre:0.352476\n"
     ]
    },
    {
     "name": "stderr",
     "output_type": "stream",
     "text": [
      "C:\\Users\\yaswa\\anaconda3\\lib\\site-packages\\torchvision\\transforms\\functional.py:1603: UserWarning: The default value of the antialias parameter of all the resizing transforms (Resize(), RandomResizedCrop(), etc.) will change from None to True in v0.17, in order to be consistent across the PIL and Tensor backends. To suppress this warning, directly pass antialias=True (recommended, future default), antialias=None (current default, which means False for Tensors and True for PIL), or antialias=False (only works on Tensors - PIL will still use antialiasing). This also applies if you are using the inference transforms from the models weights: update the call to weights.transforms(antialias=True).\n",
      "  warnings.warn(\n"
     ]
    },
    {
     "name": "stdout",
     "output_type": "stream",
     "text": [
      "TEpoch 1: [60/450 (13%)]- Loss: 1.57704782 - f1:0.152288 - acc:0.790254 - reca:0.094919 - pre:0.384966\n"
     ]
    },
    {
     "name": "stderr",
     "output_type": "stream",
     "text": [
      "C:\\Users\\yaswa\\anaconda3\\lib\\site-packages\\torchvision\\transforms\\functional.py:1603: UserWarning: The default value of the antialias parameter of all the resizing transforms (Resize(), RandomResizedCrop(), etc.) will change from None to True in v0.17, in order to be consistent across the PIL and Tensor backends. To suppress this warning, directly pass antialias=True (recommended, future default), antialias=None (current default, which means False for Tensors and True for PIL), or antialias=False (only works on Tensors - PIL will still use antialiasing). This also applies if you are using the inference transforms from the models weights: update the call to weights.transforms(antialias=True).\n",
      "  warnings.warn(\n"
     ]
    },
    {
     "name": "stdout",
     "output_type": "stream",
     "text": [
      "TEpoch 1: [70/450 (16%)]- Loss: 1.42672467 - f1:0.352834 - acc:0.817426 - reca:0.241296 - pre:0.656119\n"
     ]
    },
    {
     "name": "stderr",
     "output_type": "stream",
     "text": [
      "C:\\Users\\yaswa\\anaconda3\\lib\\site-packages\\torchvision\\transforms\\functional.py:1603: UserWarning: The default value of the antialias parameter of all the resizing transforms (Resize(), RandomResizedCrop(), etc.) will change from None to True in v0.17, in order to be consistent across the PIL and Tensor backends. To suppress this warning, directly pass antialias=True (recommended, future default), antialias=None (current default, which means False for Tensors and True for PIL), or antialias=False (only works on Tensors - PIL will still use antialiasing). This also applies if you are using the inference transforms from the models weights: update the call to weights.transforms(antialias=True).\n",
      "  warnings.warn(\n"
     ]
    },
    {
     "name": "stdout",
     "output_type": "stream",
     "text": [
      "TEpoch 1: [80/450 (18%)]- Loss: 1.52710724 - f1:0.211744 - acc:0.779942 - reca:0.145578 - pre:0.388169\n"
     ]
    },
    {
     "name": "stderr",
     "output_type": "stream",
     "text": [
      "C:\\Users\\yaswa\\anaconda3\\lib\\site-packages\\torchvision\\transforms\\functional.py:1603: UserWarning: The default value of the antialias parameter of all the resizing transforms (Resize(), RandomResizedCrop(), etc.) will change from None to True in v0.17, in order to be consistent across the PIL and Tensor backends. To suppress this warning, directly pass antialias=True (recommended, future default), antialias=None (current default, which means False for Tensors and True for PIL), or antialias=False (only works on Tensors - PIL will still use antialiasing). This also applies if you are using the inference transforms from the models weights: update the call to weights.transforms(antialias=True).\n",
      "  warnings.warn(\n"
     ]
    },
    {
     "name": "stdout",
     "output_type": "stream",
     "text": [
      "TEpoch 1: [90/450 (20%)]- Loss: 1.54123068 - f1:0.223529 - acc:0.725925 - reca:0.167210 - pre:0.337053\n"
     ]
    },
    {
     "name": "stderr",
     "output_type": "stream",
     "text": [
      "C:\\Users\\yaswa\\anaconda3\\lib\\site-packages\\torchvision\\transforms\\functional.py:1603: UserWarning: The default value of the antialias parameter of all the resizing transforms (Resize(), RandomResizedCrop(), etc.) will change from None to True in v0.17, in order to be consistent across the PIL and Tensor backends. To suppress this warning, directly pass antialias=True (recommended, future default), antialias=None (current default, which means False for Tensors and True for PIL), or antialias=False (only works on Tensors - PIL will still use antialiasing). This also applies if you are using the inference transforms from the models weights: update the call to weights.transforms(antialias=True).\n",
      "  warnings.warn(\n"
     ]
    },
    {
     "name": "stdout",
     "output_type": "stream",
     "text": [
      "TEpoch 1: [100/450 (22%)]- Loss: 1.50986314 - f1:0.270173 - acc:0.739149 - reca:0.221477 - pre:0.346318\n"
     ]
    },
    {
     "name": "stderr",
     "output_type": "stream",
     "text": [
      "C:\\Users\\yaswa\\anaconda3\\lib\\site-packages\\torchvision\\transforms\\functional.py:1603: UserWarning: The default value of the antialias parameter of all the resizing transforms (Resize(), RandomResizedCrop(), etc.) will change from None to True in v0.17, in order to be consistent across the PIL and Tensor backends. To suppress this warning, directly pass antialias=True (recommended, future default), antialias=None (current default, which means False for Tensors and True for PIL), or antialias=False (only works on Tensors - PIL will still use antialiasing). This also applies if you are using the inference transforms from the models weights: update the call to weights.transforms(antialias=True).\n",
      "  warnings.warn(\n"
     ]
    },
    {
     "name": "stdout",
     "output_type": "stream",
     "text": [
      "TEpoch 1: [110/450 (24%)]- Loss: 1.56018853 - f1:0.203297 - acc:0.699074 - reca:0.164446 - pre:0.266186\n"
     ]
    },
    {
     "name": "stderr",
     "output_type": "stream",
     "text": [
      "C:\\Users\\yaswa\\anaconda3\\lib\\site-packages\\torchvision\\transforms\\functional.py:1603: UserWarning: The default value of the antialias parameter of all the resizing transforms (Resize(), RandomResizedCrop(), etc.) will change from None to True in v0.17, in order to be consistent across the PIL and Tensor backends. To suppress this warning, directly pass antialias=True (recommended, future default), antialias=None (current default, which means False for Tensors and True for PIL), or antialias=False (only works on Tensors - PIL will still use antialiasing). This also applies if you are using the inference transforms from the models weights: update the call to weights.transforms(antialias=True).\n",
      "  warnings.warn(\n"
     ]
    },
    {
     "name": "stdout",
     "output_type": "stream",
     "text": [
      "TEpoch 1: [120/450 (27%)]- Loss: 1.47438920 - f1:0.306533 - acc:0.744484 - reca:0.237623 - pre:0.431734\n"
     ]
    },
    {
     "name": "stderr",
     "output_type": "stream",
     "text": [
      "C:\\Users\\yaswa\\anaconda3\\lib\\site-packages\\torchvision\\transforms\\functional.py:1603: UserWarning: The default value of the antialias parameter of all the resizing transforms (Resize(), RandomResizedCrop(), etc.) will change from None to True in v0.17, in order to be consistent across the PIL and Tensor backends. To suppress this warning, directly pass antialias=True (recommended, future default), antialias=None (current default, which means False for Tensors and True for PIL), or antialias=False (only works on Tensors - PIL will still use antialiasing). This also applies if you are using the inference transforms from the models weights: update the call to weights.transforms(antialias=True).\n",
      "  warnings.warn(\n"
     ]
    },
    {
     "name": "stdout",
     "output_type": "stream",
     "text": [
      "TEpoch 1: [130/450 (29%)]- Loss: 1.37725973 - f1:0.459496 - acc:0.759094 - reca:0.419250 - pre:0.508290\n"
     ]
    },
    {
     "name": "stderr",
     "output_type": "stream",
     "text": [
      "C:\\Users\\yaswa\\anaconda3\\lib\\site-packages\\torchvision\\transforms\\functional.py:1603: UserWarning: The default value of the antialias parameter of all the resizing transforms (Resize(), RandomResizedCrop(), etc.) will change from None to True in v0.17, in order to be consistent across the PIL and Tensor backends. To suppress this warning, directly pass antialias=True (recommended, future default), antialias=None (current default, which means False for Tensors and True for PIL), or antialias=False (only works on Tensors - PIL will still use antialiasing). This also applies if you are using the inference transforms from the models weights: update the call to weights.transforms(antialias=True).\n",
      "  warnings.warn(\n"
     ]
    },
    {
     "name": "stdout",
     "output_type": "stream",
     "text": [
      "TEpoch 1: [140/450 (31%)]- Loss: 1.39738750 - f1:0.403354 - acc:0.777942 - reca:0.368400 - pre:0.445635\n"
     ]
    },
    {
     "name": "stderr",
     "output_type": "stream",
     "text": [
      "C:\\Users\\yaswa\\anaconda3\\lib\\site-packages\\torchvision\\transforms\\functional.py:1603: UserWarning: The default value of the antialias parameter of all the resizing transforms (Resize(), RandomResizedCrop(), etc.) will change from None to True in v0.17, in order to be consistent across the PIL and Tensor backends. To suppress this warning, directly pass antialias=True (recommended, future default), antialias=None (current default, which means False for Tensors and True for PIL), or antialias=False (only works on Tensors - PIL will still use antialiasing). This also applies if you are using the inference transforms from the models weights: update the call to weights.transforms(antialias=True).\n",
      "  warnings.warn(\n"
     ]
    },
    {
     "name": "stdout",
     "output_type": "stream",
     "text": [
      "TEpoch 1: [150/450 (33%)]- Loss: 1.50361311 - f1:0.310155 - acc:0.677150 - reca:0.315119 - pre:0.305346\n"
     ]
    },
    {
     "name": "stderr",
     "output_type": "stream",
     "text": [
      "C:\\Users\\yaswa\\anaconda3\\lib\\site-packages\\torchvision\\transforms\\functional.py:1603: UserWarning: The default value of the antialias parameter of all the resizing transforms (Resize(), RandomResizedCrop(), etc.) will change from None to True in v0.17, in order to be consistent across the PIL and Tensor backends. To suppress this warning, directly pass antialias=True (recommended, future default), antialias=None (current default, which means False for Tensors and True for PIL), or antialias=False (only works on Tensors - PIL will still use antialiasing). This also applies if you are using the inference transforms from the models weights: update the call to weights.transforms(antialias=True).\n",
      "  warnings.warn(\n"
     ]
    },
    {
     "name": "stdout",
     "output_type": "stream",
     "text": [
      "TEpoch 1: [160/450 (36%)]- Loss: 1.38741815 - f1:0.416032 - acc:0.769382 - reca:0.401589 - pre:0.431552\n"
     ]
    },
    {
     "name": "stderr",
     "output_type": "stream",
     "text": [
      "C:\\Users\\yaswa\\anaconda3\\lib\\site-packages\\torchvision\\transforms\\functional.py:1603: UserWarning: The default value of the antialias parameter of all the resizing transforms (Resize(), RandomResizedCrop(), etc.) will change from None to True in v0.17, in order to be consistent across the PIL and Tensor backends. To suppress this warning, directly pass antialias=True (recommended, future default), antialias=None (current default, which means False for Tensors and True for PIL), or antialias=False (only works on Tensors - PIL will still use antialiasing). This also applies if you are using the inference transforms from the models weights: update the call to weights.transforms(antialias=True).\n",
      "  warnings.warn(\n"
     ]
    },
    {
     "name": "stdout",
     "output_type": "stream",
     "text": [
      "TEpoch 1: [170/450 (38%)]- Loss: 1.45388031 - f1:0.380968 - acc:0.666939 - reca:0.443322 - pre:0.333991\n"
     ]
    },
    {
     "name": "stderr",
     "output_type": "stream",
     "text": [
      "C:\\Users\\yaswa\\anaconda3\\lib\\site-packages\\torchvision\\transforms\\functional.py:1603: UserWarning: The default value of the antialias parameter of all the resizing transforms (Resize(), RandomResizedCrop(), etc.) will change from None to True in v0.17, in order to be consistent across the PIL and Tensor backends. To suppress this warning, directly pass antialias=True (recommended, future default), antialias=None (current default, which means False for Tensors and True for PIL), or antialias=False (only works on Tensors - PIL will still use antialiasing). This also applies if you are using the inference transforms from the models weights: update the call to weights.transforms(antialias=True).\n",
      "  warnings.warn(\n"
     ]
    },
    {
     "name": "stdout",
     "output_type": "stream",
     "text": [
      "TEpoch 1: [180/450 (40%)]- Loss: 1.45811605 - f1:0.350763 - acc:0.698337 - reca:0.434254 - pre:0.294199\n"
     ]
    },
    {
     "name": "stderr",
     "output_type": "stream",
     "text": [
      "C:\\Users\\yaswa\\anaconda3\\lib\\site-packages\\torchvision\\transforms\\functional.py:1603: UserWarning: The default value of the antialias parameter of all the resizing transforms (Resize(), RandomResizedCrop(), etc.) will change from None to True in v0.17, in order to be consistent across the PIL and Tensor backends. To suppress this warning, directly pass antialias=True (recommended, future default), antialias=None (current default, which means False for Tensors and True for PIL), or antialias=False (only works on Tensors - PIL will still use antialiasing). This also applies if you are using the inference transforms from the models weights: update the call to weights.transforms(antialias=True).\n",
      "  warnings.warn(\n"
     ]
    },
    {
     "name": "stdout",
     "output_type": "stream",
     "text": [
      "TEpoch 1: [190/450 (42%)]- Loss: 1.47417331 - f1:0.336727 - acc:0.691846 - reca:0.390900 - pre:0.295742\n"
     ]
    },
    {
     "name": "stderr",
     "output_type": "stream",
     "text": [
      "C:\\Users\\yaswa\\anaconda3\\lib\\site-packages\\torchvision\\transforms\\functional.py:1603: UserWarning: The default value of the antialias parameter of all the resizing transforms (Resize(), RandomResizedCrop(), etc.) will change from None to True in v0.17, in order to be consistent across the PIL and Tensor backends. To suppress this warning, directly pass antialias=True (recommended, future default), antialias=None (current default, which means False for Tensors and True for PIL), or antialias=False (only works on Tensors - PIL will still use antialiasing). This also applies if you are using the inference transforms from the models weights: update the call to weights.transforms(antialias=True).\n",
      "  warnings.warn(\n"
     ]
    },
    {
     "name": "stdout",
     "output_type": "stream",
     "text": [
      "TEpoch 1: [200/450 (44%)]- Loss: 1.37636542 - f1:0.465196 - acc:0.726552 - reca:0.594679 - pre:0.382017\n"
     ]
    },
    {
     "name": "stderr",
     "output_type": "stream",
     "text": [
      "C:\\Users\\yaswa\\anaconda3\\lib\\site-packages\\torchvision\\transforms\\functional.py:1603: UserWarning: The default value of the antialias parameter of all the resizing transforms (Resize(), RandomResizedCrop(), etc.) will change from None to True in v0.17, in order to be consistent across the PIL and Tensor backends. To suppress this warning, directly pass antialias=True (recommended, future default), antialias=None (current default, which means False for Tensors and True for PIL), or antialias=False (only works on Tensors - PIL will still use antialiasing). This also applies if you are using the inference transforms from the models weights: update the call to weights.transforms(antialias=True).\n",
      "  warnings.warn(\n"
     ]
    },
    {
     "name": "stdout",
     "output_type": "stream",
     "text": [
      "TEpoch 1: [210/450 (47%)]- Loss: 1.44138992 - f1:0.389547 - acc:0.664694 - reca:0.472689 - pre:0.331278\n"
     ]
    },
    {
     "name": "stderr",
     "output_type": "stream",
     "text": [
      "C:\\Users\\yaswa\\anaconda3\\lib\\site-packages\\torchvision\\transforms\\functional.py:1603: UserWarning: The default value of the antialias parameter of all the resizing transforms (Resize(), RandomResizedCrop(), etc.) will change from None to True in v0.17, in order to be consistent across the PIL and Tensor backends. To suppress this warning, directly pass antialias=True (recommended, future default), antialias=None (current default, which means False for Tensors and True for PIL), or antialias=False (only works on Tensors - PIL will still use antialiasing). This also applies if you are using the inference transforms from the models weights: update the call to weights.transforms(antialias=True).\n",
      "  warnings.warn(\n"
     ]
    },
    {
     "name": "stdout",
     "output_type": "stream",
     "text": [
      "TEpoch 1: [220/450 (49%)]- Loss: 1.45410347 - f1:0.345066 - acc:0.679539 - reca:0.447021 - pre:0.280981\n"
     ]
    },
    {
     "name": "stderr",
     "output_type": "stream",
     "text": [
      "C:\\Users\\yaswa\\anaconda3\\lib\\site-packages\\torchvision\\transforms\\functional.py:1603: UserWarning: The default value of the antialias parameter of all the resizing transforms (Resize(), RandomResizedCrop(), etc.) will change from None to True in v0.17, in order to be consistent across the PIL and Tensor backends. To suppress this warning, directly pass antialias=True (recommended, future default), antialias=None (current default, which means False for Tensors and True for PIL), or antialias=False (only works on Tensors - PIL will still use antialiasing). This also applies if you are using the inference transforms from the models weights: update the call to weights.transforms(antialias=True).\n",
      "  warnings.warn(\n"
     ]
    },
    {
     "name": "stdout",
     "output_type": "stream",
     "text": [
      "TEpoch 1: [230/450 (51%)]- Loss: 1.34019446 - f1:0.479271 - acc:0.726550 - reca:0.636942 - pre:0.384171\n"
     ]
    },
    {
     "name": "stderr",
     "output_type": "stream",
     "text": [
      "C:\\Users\\yaswa\\anaconda3\\lib\\site-packages\\torchvision\\transforms\\functional.py:1603: UserWarning: The default value of the antialias parameter of all the resizing transforms (Resize(), RandomResizedCrop(), etc.) will change from None to True in v0.17, in order to be consistent across the PIL and Tensor backends. To suppress this warning, directly pass antialias=True (recommended, future default), antialias=None (current default, which means False for Tensors and True for PIL), or antialias=False (only works on Tensors - PIL will still use antialiasing). This also applies if you are using the inference transforms from the models weights: update the call to weights.transforms(antialias=True).\n",
      "  warnings.warn(\n"
     ]
    },
    {
     "name": "stdout",
     "output_type": "stream",
     "text": [
      "TEpoch 1: [240/450 (53%)]- Loss: 1.31494188 - f1:0.529273 - acc:0.753302 - reca:0.716706 - pre:0.419551\n"
     ]
    },
    {
     "name": "stderr",
     "output_type": "stream",
     "text": [
      "C:\\Users\\yaswa\\anaconda3\\lib\\site-packages\\torchvision\\transforms\\functional.py:1603: UserWarning: The default value of the antialias parameter of all the resizing transforms (Resize(), RandomResizedCrop(), etc.) will change from None to True in v0.17, in order to be consistent across the PIL and Tensor backends. To suppress this warning, directly pass antialias=True (recommended, future default), antialias=None (current default, which means False for Tensors and True for PIL), or antialias=False (only works on Tensors - PIL will still use antialiasing). This also applies if you are using the inference transforms from the models weights: update the call to weights.transforms(antialias=True).\n",
      "  warnings.warn(\n"
     ]
    },
    {
     "name": "stdout",
     "output_type": "stream",
     "text": [
      "TEpoch 1: [250/450 (56%)]- Loss: 1.30428374 - f1:0.548156 - acc:0.763251 - reca:0.636611 - pre:0.481283\n"
     ]
    },
    {
     "name": "stderr",
     "output_type": "stream",
     "text": [
      "C:\\Users\\yaswa\\anaconda3\\lib\\site-packages\\torchvision\\transforms\\functional.py:1603: UserWarning: The default value of the antialias parameter of all the resizing transforms (Resize(), RandomResizedCrop(), etc.) will change from None to True in v0.17, in order to be consistent across the PIL and Tensor backends. To suppress this warning, directly pass antialias=True (recommended, future default), antialias=None (current default, which means False for Tensors and True for PIL), or antialias=False (only works on Tensors - PIL will still use antialiasing). This also applies if you are using the inference transforms from the models weights: update the call to weights.transforms(antialias=True).\n",
      "  warnings.warn(\n"
     ]
    },
    {
     "name": "stdout",
     "output_type": "stream",
     "text": [
      "TEpoch 1: [260/450 (58%)]- Loss: 1.32466638 - f1:0.505462 - acc:0.752486 - reca:0.648170 - pre:0.414255\n"
     ]
    },
    {
     "name": "stderr",
     "output_type": "stream",
     "text": [
      "C:\\Users\\yaswa\\anaconda3\\lib\\site-packages\\torchvision\\transforms\\functional.py:1603: UserWarning: The default value of the antialias parameter of all the resizing transforms (Resize(), RandomResizedCrop(), etc.) will change from None to True in v0.17, in order to be consistent across the PIL and Tensor backends. To suppress this warning, directly pass antialias=True (recommended, future default), antialias=None (current default, which means False for Tensors and True for PIL), or antialias=False (only works on Tensors - PIL will still use antialiasing). This also applies if you are using the inference transforms from the models weights: update the call to weights.transforms(antialias=True).\n",
      "  warnings.warn(\n"
     ]
    },
    {
     "name": "stdout",
     "output_type": "stream",
     "text": [
      "TEpoch 1: [270/450 (60%)]- Loss: 1.28585446 - f1:0.556676 - acc:0.805200 - reca:0.681991 - pre:0.470266\n"
     ]
    },
    {
     "name": "stderr",
     "output_type": "stream",
     "text": [
      "C:\\Users\\yaswa\\anaconda3\\lib\\site-packages\\torchvision\\transforms\\functional.py:1603: UserWarning: The default value of the antialias parameter of all the resizing transforms (Resize(), RandomResizedCrop(), etc.) will change from None to True in v0.17, in order to be consistent across the PIL and Tensor backends. To suppress this warning, directly pass antialias=True (recommended, future default), antialias=None (current default, which means False for Tensors and True for PIL), or antialias=False (only works on Tensors - PIL will still use antialiasing). This also applies if you are using the inference transforms from the models weights: update the call to weights.transforms(antialias=True).\n",
      "  warnings.warn(\n"
     ]
    },
    {
     "name": "stdout",
     "output_type": "stream",
     "text": [
      "TEpoch 1: [280/450 (62%)]- Loss: 1.29237556 - f1:0.543730 - acc:0.763864 - reca:0.742208 - pre:0.429007\n"
     ]
    },
    {
     "name": "stderr",
     "output_type": "stream",
     "text": [
      "C:\\Users\\yaswa\\anaconda3\\lib\\site-packages\\torchvision\\transforms\\functional.py:1603: UserWarning: The default value of the antialias parameter of all the resizing transforms (Resize(), RandomResizedCrop(), etc.) will change from None to True in v0.17, in order to be consistent across the PIL and Tensor backends. To suppress this warning, directly pass antialias=True (recommended, future default), antialias=None (current default, which means False for Tensors and True for PIL), or antialias=False (only works on Tensors - PIL will still use antialiasing). This also applies if you are using the inference transforms from the models weights: update the call to weights.transforms(antialias=True).\n",
      "  warnings.warn(\n"
     ]
    },
    {
     "name": "stdout",
     "output_type": "stream",
     "text": [
      "TEpoch 1: [290/450 (64%)]- Loss: 1.33122313 - f1:0.515003 - acc:0.735165 - reca:0.662564 - pre:0.421197\n"
     ]
    },
    {
     "name": "stderr",
     "output_type": "stream",
     "text": [
      "C:\\Users\\yaswa\\anaconda3\\lib\\site-packages\\torchvision\\transforms\\functional.py:1603: UserWarning: The default value of the antialias parameter of all the resizing transforms (Resize(), RandomResizedCrop(), etc.) will change from None to True in v0.17, in order to be consistent across the PIL and Tensor backends. To suppress this warning, directly pass antialias=True (recommended, future default), antialias=None (current default, which means False for Tensors and True for PIL), or antialias=False (only works on Tensors - PIL will still use antialiasing). This also applies if you are using the inference transforms from the models weights: update the call to weights.transforms(antialias=True).\n",
      "  warnings.warn(\n"
     ]
    },
    {
     "name": "stdout",
     "output_type": "stream",
     "text": [
      "TEpoch 1: [300/450 (67%)]- Loss: 1.32412505 - f1:0.537514 - acc:0.766565 - reca:0.586600 - pre:0.496008\n"
     ]
    },
    {
     "name": "stderr",
     "output_type": "stream",
     "text": [
      "C:\\Users\\yaswa\\anaconda3\\lib\\site-packages\\torchvision\\transforms\\functional.py:1603: UserWarning: The default value of the antialias parameter of all the resizing transforms (Resize(), RandomResizedCrop(), etc.) will change from None to True in v0.17, in order to be consistent across the PIL and Tensor backends. To suppress this warning, directly pass antialias=True (recommended, future default), antialias=None (current default, which means False for Tensors and True for PIL), or antialias=False (only works on Tensors - PIL will still use antialiasing). This also applies if you are using the inference transforms from the models weights: update the call to weights.transforms(antialias=True).\n",
      "  warnings.warn(\n"
     ]
    },
    {
     "name": "stdout",
     "output_type": "stream",
     "text": [
      "TEpoch 1: [310/450 (69%)]- Loss: 1.46051502 - f1:0.359608 - acc:0.638850 - reca:0.412963 - pre:0.318463\n"
     ]
    },
    {
     "name": "stderr",
     "output_type": "stream",
     "text": [
      "C:\\Users\\yaswa\\anaconda3\\lib\\site-packages\\torchvision\\transforms\\functional.py:1603: UserWarning: The default value of the antialias parameter of all the resizing transforms (Resize(), RandomResizedCrop(), etc.) will change from None to True in v0.17, in order to be consistent across the PIL and Tensor backends. To suppress this warning, directly pass antialias=True (recommended, future default), antialias=None (current default, which means False for Tensors and True for PIL), or antialias=False (only works on Tensors - PIL will still use antialiasing). This also applies if you are using the inference transforms from the models weights: update the call to weights.transforms(antialias=True).\n",
      "  warnings.warn(\n"
     ]
    },
    {
     "name": "stdout",
     "output_type": "stream",
     "text": [
      "TEpoch 1: [320/450 (71%)]- Loss: 1.35795045 - f1:0.459487 - acc:0.726758 - reca:0.581569 - pre:0.379767\n"
     ]
    },
    {
     "name": "stderr",
     "output_type": "stream",
     "text": [
      "C:\\Users\\yaswa\\anaconda3\\lib\\site-packages\\torchvision\\transforms\\functional.py:1603: UserWarning: The default value of the antialias parameter of all the resizing transforms (Resize(), RandomResizedCrop(), etc.) will change from None to True in v0.17, in order to be consistent across the PIL and Tensor backends. To suppress this warning, directly pass antialias=True (recommended, future default), antialias=None (current default, which means False for Tensors and True for PIL), or antialias=False (only works on Tensors - PIL will still use antialiasing). This also applies if you are using the inference transforms from the models weights: update the call to weights.transforms(antialias=True).\n",
      "  warnings.warn(\n"
     ]
    },
    {
     "name": "stdout",
     "output_type": "stream",
     "text": [
      "TEpoch 1: [330/450 (73%)]- Loss: 1.26991916 - f1:0.590412 - acc:0.777768 - reca:0.716954 - pre:0.501838\n"
     ]
    },
    {
     "name": "stderr",
     "output_type": "stream",
     "text": [
      "C:\\Users\\yaswa\\anaconda3\\lib\\site-packages\\torchvision\\transforms\\functional.py:1603: UserWarning: The default value of the antialias parameter of all the resizing transforms (Resize(), RandomResizedCrop(), etc.) will change from None to True in v0.17, in order to be consistent across the PIL and Tensor backends. To suppress this warning, directly pass antialias=True (recommended, future default), antialias=None (current default, which means False for Tensors and True for PIL), or antialias=False (only works on Tensors - PIL will still use antialiasing). This also applies if you are using the inference transforms from the models weights: update the call to weights.transforms(antialias=True).\n",
      "  warnings.warn(\n"
     ]
    },
    {
     "name": "stdout",
     "output_type": "stream",
     "text": [
      "TEpoch 1: [340/450 (76%)]- Loss: 1.39907789 - f1:0.448782 - acc:0.722050 - reca:0.504065 - pre:0.404428\n"
     ]
    },
    {
     "name": "stderr",
     "output_type": "stream",
     "text": [
      "C:\\Users\\yaswa\\anaconda3\\lib\\site-packages\\torchvision\\transforms\\functional.py:1603: UserWarning: The default value of the antialias parameter of all the resizing transforms (Resize(), RandomResizedCrop(), etc.) will change from None to True in v0.17, in order to be consistent across the PIL and Tensor backends. To suppress this warning, directly pass antialias=True (recommended, future default), antialias=None (current default, which means False for Tensors and True for PIL), or antialias=False (only works on Tensors - PIL will still use antialiasing). This also applies if you are using the inference transforms from the models weights: update the call to weights.transforms(antialias=True).\n",
      "  warnings.warn(\n"
     ]
    },
    {
     "name": "stdout",
     "output_type": "stream",
     "text": [
      "TEpoch 1: [350/450 (78%)]- Loss: 1.38405097 - f1:0.427370 - acc:0.733960 - reca:0.461315 - pre:0.398079\n"
     ]
    },
    {
     "name": "stderr",
     "output_type": "stream",
     "text": [
      "C:\\Users\\yaswa\\anaconda3\\lib\\site-packages\\torchvision\\transforms\\functional.py:1603: UserWarning: The default value of the antialias parameter of all the resizing transforms (Resize(), RandomResizedCrop(), etc.) will change from None to True in v0.17, in order to be consistent across the PIL and Tensor backends. To suppress this warning, directly pass antialias=True (recommended, future default), antialias=None (current default, which means False for Tensors and True for PIL), or antialias=False (only works on Tensors - PIL will still use antialiasing). This also applies if you are using the inference transforms from the models weights: update the call to weights.transforms(antialias=True).\n",
      "  warnings.warn(\n"
     ]
    },
    {
     "name": "stdout",
     "output_type": "stream",
     "text": [
      "TEpoch 1: [360/450 (80%)]- Loss: 1.31045616 - f1:0.569082 - acc:0.741592 - reca:0.728880 - pre:0.466752\n"
     ]
    },
    {
     "name": "stderr",
     "output_type": "stream",
     "text": [
      "C:\\Users\\yaswa\\anaconda3\\lib\\site-packages\\torchvision\\transforms\\functional.py:1603: UserWarning: The default value of the antialias parameter of all the resizing transforms (Resize(), RandomResizedCrop(), etc.) will change from None to True in v0.17, in order to be consistent across the PIL and Tensor backends. To suppress this warning, directly pass antialias=True (recommended, future default), antialias=None (current default, which means False for Tensors and True for PIL), or antialias=False (only works on Tensors - PIL will still use antialiasing). This also applies if you are using the inference transforms from the models weights: update the call to weights.transforms(antialias=True).\n",
      "  warnings.warn(\n"
     ]
    },
    {
     "name": "stdout",
     "output_type": "stream",
     "text": [
      "TEpoch 1: [370/450 (82%)]- Loss: 1.22512710 - f1:0.645609 - acc:0.822469 - reca:0.678253 - pre:0.615963\n"
     ]
    },
    {
     "name": "stderr",
     "output_type": "stream",
     "text": [
      "C:\\Users\\yaswa\\anaconda3\\lib\\site-packages\\torchvision\\transforms\\functional.py:1603: UserWarning: The default value of the antialias parameter of all the resizing transforms (Resize(), RandomResizedCrop(), etc.) will change from None to True in v0.17, in order to be consistent across the PIL and Tensor backends. To suppress this warning, directly pass antialias=True (recommended, future default), antialias=None (current default, which means False for Tensors and True for PIL), or antialias=False (only works on Tensors - PIL will still use antialiasing). This also applies if you are using the inference transforms from the models weights: update the call to weights.transforms(antialias=True).\n",
      "  warnings.warn(\n"
     ]
    },
    {
     "name": "stdout",
     "output_type": "stream",
     "text": [
      "TEpoch 1: [380/450 (84%)]- Loss: 1.26936734 - f1:0.610807 - acc:0.792667 - reca:0.741590 - pre:0.519238\n"
     ]
    },
    {
     "name": "stderr",
     "output_type": "stream",
     "text": [
      "C:\\Users\\yaswa\\anaconda3\\lib\\site-packages\\torchvision\\transforms\\functional.py:1603: UserWarning: The default value of the antialias parameter of all the resizing transforms (Resize(), RandomResizedCrop(), etc.) will change from None to True in v0.17, in order to be consistent across the PIL and Tensor backends. To suppress this warning, directly pass antialias=True (recommended, future default), antialias=None (current default, which means False for Tensors and True for PIL), or antialias=False (only works on Tensors - PIL will still use antialiasing). This also applies if you are using the inference transforms from the models weights: update the call to weights.transforms(antialias=True).\n",
      "  warnings.warn(\n"
     ]
    },
    {
     "name": "stdout",
     "output_type": "stream",
     "text": [
      "TEpoch 1: [390/450 (87%)]- Loss: 1.36398065 - f1:0.480665 - acc:0.709639 - reca:0.563425 - pre:0.419105\n"
     ]
    },
    {
     "name": "stderr",
     "output_type": "stream",
     "text": [
      "C:\\Users\\yaswa\\anaconda3\\lib\\site-packages\\torchvision\\transforms\\functional.py:1603: UserWarning: The default value of the antialias parameter of all the resizing transforms (Resize(), RandomResizedCrop(), etc.) will change from None to True in v0.17, in order to be consistent across the PIL and Tensor backends. To suppress this warning, directly pass antialias=True (recommended, future default), antialias=None (current default, which means False for Tensors and True for PIL), or antialias=False (only works on Tensors - PIL will still use antialiasing). This also applies if you are using the inference transforms from the models weights: update the call to weights.transforms(antialias=True).\n",
      "  warnings.warn(\n"
     ]
    },
    {
     "name": "stdout",
     "output_type": "stream",
     "text": [
      "TEpoch 1: [400/450 (89%)]- Loss: 1.35556555 - f1:0.501983 - acc:0.732935 - reca:0.580555 - pre:0.442144\n"
     ]
    },
    {
     "name": "stderr",
     "output_type": "stream",
     "text": [
      "C:\\Users\\yaswa\\anaconda3\\lib\\site-packages\\torchvision\\transforms\\functional.py:1603: UserWarning: The default value of the antialias parameter of all the resizing transforms (Resize(), RandomResizedCrop(), etc.) will change from None to True in v0.17, in order to be consistent across the PIL and Tensor backends. To suppress this warning, directly pass antialias=True (recommended, future default), antialias=None (current default, which means False for Tensors and True for PIL), or antialias=False (only works on Tensors - PIL will still use antialiasing). This also applies if you are using the inference transforms from the models weights: update the call to weights.transforms(antialias=True).\n",
      "  warnings.warn(\n"
     ]
    },
    {
     "name": "stdout",
     "output_type": "stream",
     "text": [
      "TEpoch 1: [410/450 (91%)]- Loss: 1.40774322 - f1:0.416112 - acc:0.708273 - reca:0.487704 - pre:0.362848\n"
     ]
    },
    {
     "name": "stderr",
     "output_type": "stream",
     "text": [
      "C:\\Users\\yaswa\\anaconda3\\lib\\site-packages\\torchvision\\transforms\\functional.py:1603: UserWarning: The default value of the antialias parameter of all the resizing transforms (Resize(), RandomResizedCrop(), etc.) will change from None to True in v0.17, in order to be consistent across the PIL and Tensor backends. To suppress this warning, directly pass antialias=True (recommended, future default), antialias=None (current default, which means False for Tensors and True for PIL), or antialias=False (only works on Tensors - PIL will still use antialiasing). This also applies if you are using the inference transforms from the models weights: update the call to weights.transforms(antialias=True).\n",
      "  warnings.warn(\n"
     ]
    },
    {
     "name": "stdout",
     "output_type": "stream",
     "text": [
      "TEpoch 1: [420/450 (93%)]- Loss: 1.37337649 - f1:0.482979 - acc:0.711841 - reca:0.609417 - pre:0.399992\n"
     ]
    },
    {
     "name": "stderr",
     "output_type": "stream",
     "text": [
      "C:\\Users\\yaswa\\anaconda3\\lib\\site-packages\\torchvision\\transforms\\functional.py:1603: UserWarning: The default value of the antialias parameter of all the resizing transforms (Resize(), RandomResizedCrop(), etc.) will change from None to True in v0.17, in order to be consistent across the PIL and Tensor backends. To suppress this warning, directly pass antialias=True (recommended, future default), antialias=None (current default, which means False for Tensors and True for PIL), or antialias=False (only works on Tensors - PIL will still use antialiasing). This also applies if you are using the inference transforms from the models weights: update the call to weights.transforms(antialias=True).\n",
      "  warnings.warn(\n"
     ]
    },
    {
     "name": "stdout",
     "output_type": "stream",
     "text": [
      "TEpoch 1: [430/450 (96%)]- Loss: 1.35346770 - f1:0.479822 - acc:0.753224 - reca:0.578307 - pre:0.410000\n"
     ]
    },
    {
     "name": "stderr",
     "output_type": "stream",
     "text": [
      "C:\\Users\\yaswa\\anaconda3\\lib\\site-packages\\torchvision\\transforms\\functional.py:1603: UserWarning: The default value of the antialias parameter of all the resizing transforms (Resize(), RandomResizedCrop(), etc.) will change from None to True in v0.17, in order to be consistent across the PIL and Tensor backends. To suppress this warning, directly pass antialias=True (recommended, future default), antialias=None (current default, which means False for Tensors and True for PIL), or antialias=False (only works on Tensors - PIL will still use antialiasing). This also applies if you are using the inference transforms from the models weights: update the call to weights.transforms(antialias=True).\n",
      "  warnings.warn(\n"
     ]
    },
    {
     "name": "stdout",
     "output_type": "stream",
     "text": [
      "TEpoch 1: [440/450 (98%)]- Loss: 1.30163825 - f1:0.532972 - acc:0.783272 - reca:0.533089 - pre:0.532854\n",
      "\n",
      "Validation Part:\n",
      "\n"
     ]
    },
    {
     "name": "stderr",
     "output_type": "stream",
     "text": [
      "C:\\Users\\yaswa\\anaconda3\\lib\\site-packages\\torchvision\\transforms\\functional.py:1603: UserWarning: The default value of the antialias parameter of all the resizing transforms (Resize(), RandomResizedCrop(), etc.) will change from None to True in v0.17, in order to be consistent across the PIL and Tensor backends. To suppress this warning, directly pass antialias=True (recommended, future default), antialias=None (current default, which means False for Tensors and True for PIL), or antialias=False (only works on Tensors - PIL will still use antialiasing). This also applies if you are using the inference transforms from the models weights: update the call to weights.transforms(antialias=True).\n",
      "  warnings.warn(\n"
     ]
    },
    {
     "name": "stdout",
     "output_type": "stream",
     "text": [
      "VEpoch 1: [0/85 (0%)]  -  Loss: 1.38218594  -  f1:0.429204  -  acc:0.642764\n"
     ]
    },
    {
     "name": "stderr",
     "output_type": "stream",
     "text": [
      "C:\\Users\\yaswa\\anaconda3\\lib\\site-packages\\torchvision\\transforms\\functional.py:1603: UserWarning: The default value of the antialias parameter of all the resizing transforms (Resize(), RandomResizedCrop(), etc.) will change from None to True in v0.17, in order to be consistent across the PIL and Tensor backends. To suppress this warning, directly pass antialias=True (recommended, future default), antialias=None (current default, which means False for Tensors and True for PIL), or antialias=False (only works on Tensors - PIL will still use antialiasing). This also applies if you are using the inference transforms from the models weights: update the call to weights.transforms(antialias=True).\n",
      "  warnings.warn(\n"
     ]
    },
    {
     "name": "stdout",
     "output_type": "stream",
     "text": [
      "VEpoch 1: [10/85 (5%)]  -  Loss: 1.36489737  -  f1:0.474632  -  acc:0.660781\n"
     ]
    },
    {
     "name": "stderr",
     "output_type": "stream",
     "text": [
      "C:\\Users\\yaswa\\anaconda3\\lib\\site-packages\\torchvision\\transforms\\functional.py:1603: UserWarning: The default value of the antialias parameter of all the resizing transforms (Resize(), RandomResizedCrop(), etc.) will change from None to True in v0.17, in order to be consistent across the PIL and Tensor backends. To suppress this warning, directly pass antialias=True (recommended, future default), antialias=None (current default, which means False for Tensors and True for PIL), or antialias=False (only works on Tensors - PIL will still use antialiasing). This also applies if you are using the inference transforms from the models weights: update the call to weights.transforms(antialias=True).\n",
      "  warnings.warn(\n"
     ]
    },
    {
     "name": "stdout",
     "output_type": "stream",
     "text": [
      "VEpoch 1: [20/85 (9%)]  -  Loss: 1.26050651  -  f1:0.626353  -  acc:0.773831\n"
     ]
    },
    {
     "name": "stderr",
     "output_type": "stream",
     "text": [
      "C:\\Users\\yaswa\\anaconda3\\lib\\site-packages\\torchvision\\transforms\\functional.py:1603: UserWarning: The default value of the antialias parameter of all the resizing transforms (Resize(), RandomResizedCrop(), etc.) will change from None to True in v0.17, in order to be consistent across the PIL and Tensor backends. To suppress this warning, directly pass antialias=True (recommended, future default), antialias=None (current default, which means False for Tensors and True for PIL), or antialias=False (only works on Tensors - PIL will still use antialiasing). This also applies if you are using the inference transforms from the models weights: update the call to weights.transforms(antialias=True).\n",
      "  warnings.warn(\n"
     ]
    },
    {
     "name": "stdout",
     "output_type": "stream",
     "text": [
      "VEpoch 1: [30/85 (14%)]  -  Loss: 1.35339975  -  f1:0.464806  -  acc:0.671256\n"
     ]
    },
    {
     "name": "stderr",
     "output_type": "stream",
     "text": [
      "C:\\Users\\yaswa\\anaconda3\\lib\\site-packages\\torchvision\\transforms\\functional.py:1603: UserWarning: The default value of the antialias parameter of all the resizing transforms (Resize(), RandomResizedCrop(), etc.) will change from None to True in v0.17, in order to be consistent across the PIL and Tensor backends. To suppress this warning, directly pass antialias=True (recommended, future default), antialias=None (current default, which means False for Tensors and True for PIL), or antialias=False (only works on Tensors - PIL will still use antialiasing). This also applies if you are using the inference transforms from the models weights: update the call to weights.transforms(antialias=True).\n",
      "  warnings.warn(\n"
     ]
    },
    {
     "name": "stdout",
     "output_type": "stream",
     "text": [
      "VEpoch 1: [40/85 (18%)]  -  Loss: 1.24864411  -  f1:0.615868  -  acc:0.786187\n"
     ]
    },
    {
     "name": "stderr",
     "output_type": "stream",
     "text": [
      "C:\\Users\\yaswa\\anaconda3\\lib\\site-packages\\torchvision\\transforms\\functional.py:1603: UserWarning: The default value of the antialias parameter of all the resizing transforms (Resize(), RandomResizedCrop(), etc.) will change from None to True in v0.17, in order to be consistent across the PIL and Tensor backends. To suppress this warning, directly pass antialias=True (recommended, future default), antialias=None (current default, which means False for Tensors and True for PIL), or antialias=False (only works on Tensors - PIL will still use antialiasing). This also applies if you are using the inference transforms from the models weights: update the call to weights.transforms(antialias=True).\n",
      "  warnings.warn(\n"
     ]
    },
    {
     "name": "stdout",
     "output_type": "stream",
     "text": [
      "VEpoch 1: [50/85 (23%)]  -  Loss: 1.38072205  -  f1:0.469517  -  acc:0.671022\n"
     ]
    },
    {
     "name": "stderr",
     "output_type": "stream",
     "text": [
      "C:\\Users\\yaswa\\anaconda3\\lib\\site-packages\\torchvision\\transforms\\functional.py:1603: UserWarning: The default value of the antialias parameter of all the resizing transforms (Resize(), RandomResizedCrop(), etc.) will change from None to True in v0.17, in order to be consistent across the PIL and Tensor backends. To suppress this warning, directly pass antialias=True (recommended, future default), antialias=None (current default, which means False for Tensors and True for PIL), or antialias=False (only works on Tensors - PIL will still use antialiasing). This also applies if you are using the inference transforms from the models weights: update the call to weights.transforms(antialias=True).\n",
      "  warnings.warn(\n"
     ]
    },
    {
     "name": "stdout",
     "output_type": "stream",
     "text": [
      "VEpoch 1: [60/85 (27%)]  -  Loss: 1.20515037  -  f1:0.683344  -  acc:0.883903\n"
     ]
    },
    {
     "name": "stderr",
     "output_type": "stream",
     "text": [
      "C:\\Users\\yaswa\\anaconda3\\lib\\site-packages\\torchvision\\transforms\\functional.py:1603: UserWarning: The default value of the antialias parameter of all the resizing transforms (Resize(), RandomResizedCrop(), etc.) will change from None to True in v0.17, in order to be consistent across the PIL and Tensor backends. To suppress this warning, directly pass antialias=True (recommended, future default), antialias=None (current default, which means False for Tensors and True for PIL), or antialias=False (only works on Tensors - PIL will still use antialiasing). This also applies if you are using the inference transforms from the models weights: update the call to weights.transforms(antialias=True).\n",
      "  warnings.warn(\n"
     ]
    },
    {
     "name": "stdout",
     "output_type": "stream",
     "text": [
      "VEpoch 1: [70/85 (32%)]  -  Loss: 1.33706689  -  f1:0.501734  -  acc:0.719654\n"
     ]
    },
    {
     "name": "stderr",
     "output_type": "stream",
     "text": [
      "C:\\Users\\yaswa\\anaconda3\\lib\\site-packages\\torchvision\\transforms\\functional.py:1603: UserWarning: The default value of the antialias parameter of all the resizing transforms (Resize(), RandomResizedCrop(), etc.) will change from None to True in v0.17, in order to be consistent across the PIL and Tensor backends. To suppress this warning, directly pass antialias=True (recommended, future default), antialias=None (current default, which means False for Tensors and True for PIL), or antialias=False (only works on Tensors - PIL will still use antialiasing). This also applies if you are using the inference transforms from the models weights: update the call to weights.transforms(antialias=True).\n",
      "  warnings.warn(\n"
     ]
    },
    {
     "name": "stdout",
     "output_type": "stream",
     "text": [
      "VEpoch 1: [80/85 (36%)]  -  Loss: 1.29038107  -  f1:0.557685  -  acc:0.711265\n"
     ]
    },
    {
     "name": "stderr",
     "output_type": "stream",
     "text": [
      "C:\\Users\\yaswa\\anaconda3\\lib\\site-packages\\torchvision\\transforms\\functional.py:1603: UserWarning: The default value of the antialias parameter of all the resizing transforms (Resize(), RandomResizedCrop(), etc.) will change from None to True in v0.17, in order to be consistent across the PIL and Tensor backends. To suppress this warning, directly pass antialias=True (recommended, future default), antialias=None (current default, which means False for Tensors and True for PIL), or antialias=False (only works on Tensors - PIL will still use antialiasing). This also applies if you are using the inference transforms from the models weights: update the call to weights.transforms(antialias=True).\n",
      "  warnings.warn(\n"
     ]
    },
    {
     "name": "stdout",
     "output_type": "stream",
     "text": [
      "VEpoch 1: [90/85 (41%)]  -  Loss: 1.27280116  -  f1:0.624278  -  acc:0.793055\n"
     ]
    },
    {
     "name": "stderr",
     "output_type": "stream",
     "text": [
      "C:\\Users\\yaswa\\anaconda3\\lib\\site-packages\\torchvision\\transforms\\functional.py:1603: UserWarning: The default value of the antialias parameter of all the resizing transforms (Resize(), RandomResizedCrop(), etc.) will change from None to True in v0.17, in order to be consistent across the PIL and Tensor backends. To suppress this warning, directly pass antialias=True (recommended, future default), antialias=None (current default, which means False for Tensors and True for PIL), or antialias=False (only works on Tensors - PIL will still use antialiasing). This also applies if you are using the inference transforms from the models weights: update the call to weights.transforms(antialias=True).\n",
      "  warnings.warn(\n"
     ]
    },
    {
     "name": "stdout",
     "output_type": "stream",
     "text": [
      "VEpoch 1: [100/85 (45%)]  -  Loss: 1.20026636  -  f1:0.647311  -  acc:0.779476\n"
     ]
    },
    {
     "name": "stderr",
     "output_type": "stream",
     "text": [
      "C:\\Users\\yaswa\\anaconda3\\lib\\site-packages\\torchvision\\transforms\\functional.py:1603: UserWarning: The default value of the antialias parameter of all the resizing transforms (Resize(), RandomResizedCrop(), etc.) will change from None to True in v0.17, in order to be consistent across the PIL and Tensor backends. To suppress this warning, directly pass antialias=True (recommended, future default), antialias=None (current default, which means False for Tensors and True for PIL), or antialias=False (only works on Tensors - PIL will still use antialiasing). This also applies if you are using the inference transforms from the models weights: update the call to weights.transforms(antialias=True).\n",
      "  warnings.warn(\n"
     ]
    },
    {
     "name": "stdout",
     "output_type": "stream",
     "text": [
      "VEpoch 1: [110/85 (50%)]  -  Loss: 1.27643692  -  f1:0.604077  -  acc:0.754459\n"
     ]
    },
    {
     "name": "stderr",
     "output_type": "stream",
     "text": [
      "C:\\Users\\yaswa\\anaconda3\\lib\\site-packages\\torchvision\\transforms\\functional.py:1603: UserWarning: The default value of the antialias parameter of all the resizing transforms (Resize(), RandomResizedCrop(), etc.) will change from None to True in v0.17, in order to be consistent across the PIL and Tensor backends. To suppress this warning, directly pass antialias=True (recommended, future default), antialias=None (current default, which means False for Tensors and True for PIL), or antialias=False (only works on Tensors - PIL will still use antialiasing). This also applies if you are using the inference transforms from the models weights: update the call to weights.transforms(antialias=True).\n",
      "  warnings.warn(\n"
     ]
    },
    {
     "name": "stdout",
     "output_type": "stream",
     "text": [
      "VEpoch 1: [120/85 (55%)]  -  Loss: 1.39689481  -  f1:0.430867  -  acc:0.632912\n"
     ]
    },
    {
     "name": "stderr",
     "output_type": "stream",
     "text": [
      "C:\\Users\\yaswa\\anaconda3\\lib\\site-packages\\torchvision\\transforms\\functional.py:1603: UserWarning: The default value of the antialias parameter of all the resizing transforms (Resize(), RandomResizedCrop(), etc.) will change from None to True in v0.17, in order to be consistent across the PIL and Tensor backends. To suppress this warning, directly pass antialias=True (recommended, future default), antialias=None (current default, which means False for Tensors and True for PIL), or antialias=False (only works on Tensors - PIL will still use antialiasing). This also applies if you are using the inference transforms from the models weights: update the call to weights.transforms(antialias=True).\n",
      "  warnings.warn(\n"
     ]
    },
    {
     "name": "stdout",
     "output_type": "stream",
     "text": [
      "VEpoch 1: [130/85 (59%)]  -  Loss: 1.42716217  -  f1:0.435381  -  acc:0.653967\n"
     ]
    },
    {
     "name": "stderr",
     "output_type": "stream",
     "text": [
      "C:\\Users\\yaswa\\anaconda3\\lib\\site-packages\\torchvision\\transforms\\functional.py:1603: UserWarning: The default value of the antialias parameter of all the resizing transforms (Resize(), RandomResizedCrop(), etc.) will change from None to True in v0.17, in order to be consistent across the PIL and Tensor backends. To suppress this warning, directly pass antialias=True (recommended, future default), antialias=None (current default, which means False for Tensors and True for PIL), or antialias=False (only works on Tensors - PIL will still use antialiasing). This also applies if you are using the inference transforms from the models weights: update the call to weights.transforms(antialias=True).\n",
      "  warnings.warn(\n"
     ]
    },
    {
     "name": "stdout",
     "output_type": "stream",
     "text": [
      "VEpoch 1: [140/85 (64%)]  -  Loss: 1.22087061  -  f1:0.665959  -  acc:0.832256\n"
     ]
    },
    {
     "name": "stderr",
     "output_type": "stream",
     "text": [
      "C:\\Users\\yaswa\\anaconda3\\lib\\site-packages\\torchvision\\transforms\\functional.py:1603: UserWarning: The default value of the antialias parameter of all the resizing transforms (Resize(), RandomResizedCrop(), etc.) will change from None to True in v0.17, in order to be consistent across the PIL and Tensor backends. To suppress this warning, directly pass antialias=True (recommended, future default), antialias=None (current default, which means False for Tensors and True for PIL), or antialias=False (only works on Tensors - PIL will still use antialiasing). This also applies if you are using the inference transforms from the models weights: update the call to weights.transforms(antialias=True).\n",
      "  warnings.warn(\n"
     ]
    },
    {
     "name": "stdout",
     "output_type": "stream",
     "text": [
      "VEpoch 1: [150/85 (68%)]  -  Loss: 1.35561657  -  f1:0.530646  -  acc:0.723286\n"
     ]
    },
    {
     "name": "stderr",
     "output_type": "stream",
     "text": [
      "C:\\Users\\yaswa\\anaconda3\\lib\\site-packages\\torchvision\\transforms\\functional.py:1603: UserWarning: The default value of the antialias parameter of all the resizing transforms (Resize(), RandomResizedCrop(), etc.) will change from None to True in v0.17, in order to be consistent across the PIL and Tensor backends. To suppress this warning, directly pass antialias=True (recommended, future default), antialias=None (current default, which means False for Tensors and True for PIL), or antialias=False (only works on Tensors - PIL will still use antialiasing). This also applies if you are using the inference transforms from the models weights: update the call to weights.transforms(antialias=True).\n",
      "  warnings.warn(\n"
     ]
    },
    {
     "name": "stdout",
     "output_type": "stream",
     "text": [
      "VEpoch 1: [160/85 (73%)]  -  Loss: 1.18845999  -  f1:0.713183  -  acc:0.827603\n"
     ]
    },
    {
     "name": "stderr",
     "output_type": "stream",
     "text": [
      "C:\\Users\\yaswa\\anaconda3\\lib\\site-packages\\torchvision\\transforms\\functional.py:1603: UserWarning: The default value of the antialias parameter of all the resizing transforms (Resize(), RandomResizedCrop(), etc.) will change from None to True in v0.17, in order to be consistent across the PIL and Tensor backends. To suppress this warning, directly pass antialias=True (recommended, future default), antialias=None (current default, which means False for Tensors and True for PIL), or antialias=False (only works on Tensors - PIL will still use antialiasing). This also applies if you are using the inference transforms from the models weights: update the call to weights.transforms(antialias=True).\n",
      "  warnings.warn(\n"
     ]
    },
    {
     "name": "stdout",
     "output_type": "stream",
     "text": [
      "VEpoch 1: [170/85 (77%)]  -  Loss: 1.27170420  -  f1:0.590074  -  acc:0.740322\n"
     ]
    },
    {
     "name": "stderr",
     "output_type": "stream",
     "text": [
      "C:\\Users\\yaswa\\anaconda3\\lib\\site-packages\\torchvision\\transforms\\functional.py:1603: UserWarning: The default value of the antialias parameter of all the resizing transforms (Resize(), RandomResizedCrop(), etc.) will change from None to True in v0.17, in order to be consistent across the PIL and Tensor backends. To suppress this warning, directly pass antialias=True (recommended, future default), antialias=None (current default, which means False for Tensors and True for PIL), or antialias=False (only works on Tensors - PIL will still use antialiasing). This also applies if you are using the inference transforms from the models weights: update the call to weights.transforms(antialias=True).\n",
      "  warnings.warn(\n"
     ]
    },
    {
     "name": "stdout",
     "output_type": "stream",
     "text": [
      "VEpoch 1: [180/85 (82%)]  -  Loss: 1.27177393  -  f1:0.598294  -  acc:0.747709\n"
     ]
    },
    {
     "name": "stderr",
     "output_type": "stream",
     "text": [
      "C:\\Users\\yaswa\\anaconda3\\lib\\site-packages\\torchvision\\transforms\\functional.py:1603: UserWarning: The default value of the antialias parameter of all the resizing transforms (Resize(), RandomResizedCrop(), etc.) will change from None to True in v0.17, in order to be consistent across the PIL and Tensor backends. To suppress this warning, directly pass antialias=True (recommended, future default), antialias=None (current default, which means False for Tensors and True for PIL), or antialias=False (only works on Tensors - PIL will still use antialiasing). This also applies if you are using the inference transforms from the models weights: update the call to weights.transforms(antialias=True).\n",
      "  warnings.warn(\n"
     ]
    },
    {
     "name": "stdout",
     "output_type": "stream",
     "text": [
      "VEpoch 1: [190/85 (86%)]  -  Loss: 1.20791686  -  f1:0.704829  -  acc:0.809849\n"
     ]
    },
    {
     "name": "stderr",
     "output_type": "stream",
     "text": [
      "C:\\Users\\yaswa\\anaconda3\\lib\\site-packages\\torchvision\\transforms\\functional.py:1603: UserWarning: The default value of the antialias parameter of all the resizing transforms (Resize(), RandomResizedCrop(), etc.) will change from None to True in v0.17, in order to be consistent across the PIL and Tensor backends. To suppress this warning, directly pass antialias=True (recommended, future default), antialias=None (current default, which means False for Tensors and True for PIL), or antialias=False (only works on Tensors - PIL will still use antialiasing). This also applies if you are using the inference transforms from the models weights: update the call to weights.transforms(antialias=True).\n",
      "  warnings.warn(\n"
     ]
    },
    {
     "name": "stdout",
     "output_type": "stream",
     "text": [
      "VEpoch 1: [200/85 (91%)]  -  Loss: 1.34022069  -  f1:0.515608  -  acc:0.689152\n"
     ]
    },
    {
     "name": "stderr",
     "output_type": "stream",
     "text": [
      "C:\\Users\\yaswa\\anaconda3\\lib\\site-packages\\torchvision\\transforms\\functional.py:1603: UserWarning: The default value of the antialias parameter of all the resizing transforms (Resize(), RandomResizedCrop(), etc.) will change from None to True in v0.17, in order to be consistent across the PIL and Tensor backends. To suppress this warning, directly pass antialias=True (recommended, future default), antialias=None (current default, which means False for Tensors and True for PIL), or antialias=False (only works on Tensors - PIL will still use antialiasing). This also applies if you are using the inference transforms from the models weights: update the call to weights.transforms(antialias=True).\n",
      "  warnings.warn(\n"
     ]
    },
    {
     "name": "stdout",
     "output_type": "stream",
     "text": [
      "VEpoch 1: [210/85 (95%)]  -  Loss: 1.14847672  -  f1:0.732436  -  acc:0.823921\n",
      "Adjusting learning rate of group 0 to 2.0000e-05.\n",
      "---------------------------------------\n",
      "TLoss Total: 1.42157902 - acc: 0.74213169 - f1: 0.388535 - recall: 0.433602 - precision: 0.392322908\n",
      "VLoss Total: 1.29097978 - validacc: 0.78567401 - validF1: 0.573458 - Vrecall: 0.670011 - Vprecision: 0.518498707\n",
      "-------------------------------------------------\n",
      "\n"
     ]
    }
   ],
   "source": [
    "torch.autograd.set_detect_anomaly(True)\n",
    "\n",
    "# Training loop\n",
    "for n in range(num_epochs):\n",
    "    print(f\"{n+1}\\nTraining Part\\n\")\n",
    "    \n",
    "    # Train the model\n",
    "    loss, vloss, auc, vauc, f1, vf1, rec, vrec, pr, vpr = train_model(n, net, train_loader, test_loader)\n",
    "    \n",
    "    print(\"---------------------------------------\")\n",
    "    print(\n",
    "        \"TLoss Total: {:.8f} - acc: {:.8f} - f1: {:.6f} - recall: {:.6f} - precision: {:.9f}\".format(\n",
    "            loss, auc, f1, rec, pr\n",
    "        )\n",
    "    )\n",
    "    print(\n",
    "        \"VLoss Total: {:.8f} - validacc: {:.8f} - validF1: {:.6f} - Vrecall: {:.6f} - Vprecision: {:.9f}\".format(\n",
    "            vloss, vauc, vf1, vrec, vpr\n",
    "        )\n",
    "    )\n",
    "    print(\"-------------------------------------------------\\n\")\n"
   ]
  },
  {
   "cell_type": "markdown",
   "metadata": {},
   "source": [
    "# Predict"
   ]
  },
  {
   "cell_type": "code",
   "execution_count": 121,
   "metadata": {
    "papermill": {
     "duration": 6.405577,
     "end_time": "2021-12-22T14:11:29.727659",
     "exception": false,
     "start_time": "2021-12-22T14:11:23.322082",
     "status": "completed"
    },
    "scrolled": true,
    "tags": []
   },
   "outputs": [],
   "source": [
    "def make_predictions(data_loader, model):\n",
    "    \"\"\"\n",
    "    Make predictions on a given data loader using the provided model.\n",
    "\n",
    "    Args:\n",
    "        data_loader (DataLoader): Data loader containing the input data.\n",
    "        model (nn.Module): Model used for making predictions.\n",
    "\n",
    "    Returns:\n",
    "        output1 (Tensor): Predicted output for the first task.\n",
    "        output2 (Tensor): Predicted output for the second task.\n",
    "        data1 (Tensor): Input data for the first task.\n",
    "        data2 (Tensor): Input data for the second task.\n",
    "        ground_truth (Tensor): Ground truth data for comparison.\n",
    "\n",
    "    \"\"\"\n",
    "    # Set the model to evaluation mode\n",
    "    model.eval()\n",
    "\n",
    "    # Get a batch of data from the data loader\n",
    "    data = next(iter(data_loader))\n",
    "\n",
    "    # Extract the input images and landmarks from the data\n",
    "    if torch.cuda.is_available():\n",
    "        data1 = data['image'].cuda()\n",
    "        data2 = data['landmarks'].cuda()\n",
    "    else:\n",
    "        data1 = data['image']\n",
    "        data2 = data['landmarks']\n",
    "    \n",
    "    # Forward pass through the model\n",
    "    if torch.cuda.is_available():\n",
    "        output = model(data1).cuda()\n",
    "    else:\n",
    "        output = model(data1)\n",
    "    \n",
    "    # Process the output\n",
    "    output1 = torch.sigmoid(output[0]).squeeze(1)\n",
    "    output1 = output1.squeeze(1)\n",
    "    output2 = torch.sigmoid(output[1]).squeeze(1)\n",
    "    output2 = output2.squeeze(1)\n",
    "\n",
    "    # Return the predictions, input data, and ground truth\n",
    "    return output1, output2, data1, data2, data2"
   ]
  },
  {
   "cell_type": "code",
   "execution_count": 124,
   "metadata": {
    "papermill": {
     "duration": 9.744663,
     "end_time": "2021-12-22T14:11:46.085076",
     "exception": false,
     "start_time": "2021-12-22T14:11:36.340413",
     "status": "completed"
    },
    "scrolled": true,
    "tags": []
   },
   "outputs": [],
   "source": [
    "test1, test2, data1, data2, val_loss = make_predictions(test_loader, net)\n",
    "\n",
    "# Uncomment the following lines if you want to print the validation loss\n",
    "# print(\"VLoss Total:{:.8f} - validacc:{:.8f} - validF1:{:.6f} - Vrecall:{:.6f} - Vprecision:{:.9f}\".format(val_loss[0], val_loss[1], val_loss[2], val_loss[3], val_loss[4]))\n",
    "# print(\"-------------------------------------------------\")\n"
   ]
  },
  {
   "cell_type": "code",
   "execution_count": 125,
   "metadata": {
    "papermill": {
     "duration": 8.419491,
     "end_time": "2021-12-22T14:12:27.632385",
     "exception": false,
     "start_time": "2021-12-22T14:12:19.212894",
     "status": "completed"
    },
    "tags": []
   },
   "outputs": [
    {
     "name": "stderr",
     "output_type": "stream",
     "text": [
      "Clipping input data to the valid range for imshow with RGB data ([0..1] for floats or [0..255] for integers).\n",
      "Clipping input data to the valid range for imshow with RGB data ([0..1] for floats or [0..255] for integers).\n"
     ]
    },
    {
     "data": {
      "text/plain": [
       "<matplotlib.image.AxesImage at 0x22ff431b730>"
      ]
     },
     "execution_count": 125,
     "metadata": {},
     "output_type": "execute_result"
    },
    {
     "data": {
      "image/png": "[encoded data removed]",
      "text/plain": [
       "<Figure size 4000x4000 with 4 Axes>"
      ]
     },
     "metadata": {},
     "output_type": "display_data"
    }
   ],
   "source": [
    "n = 0\n",
    "\n",
    "# Create a figure with a specified size\n",
    "plt.figure(figsize=(40, 40))\n",
    "\n",
    "# Plot the first subplot\n",
    "plt.subplot(3, 3, 1)\n",
    "# Extract and normalize the image data\n",
    "a = np.array(np.transpose(data1[n, :, :, :].cpu(), (1, 2, 0)) / 4)\n",
    "# Display the image\n",
    "plt.imshow(a[:, :, ::-1])\n",
    "\n",
    "# Plot the second subplot\n",
    "plt.subplot(3, 3, 4)\n",
    "# Extract the target data from data2\n",
    "cc2 = (((data2[n, 0, :, :])))  # Assuming data2 is already on the CPU\n",
    "# Display the target data\n",
    "plt.imshow(cc2.cpu().detach())  # Convert to CPU before using imshow\n",
    "\n",
    "# Plot the third subplot\n",
    "plt.subplot(3, 3, 3)\n",
    "# Extract and normalize the image data (same as the first subplot)\n",
    "a4 = np.array(np.transpose(data1[n, :, :, :].cpu(), (1, 2, 0)) / 4)\n",
    "# Display the image\n",
    "plt.imshow(a4[:, :, ::-1])\n",
    "\n",
    "# Plot the fourth subplot\n",
    "plt.subplot(3, 3, 6)\n",
    "# Apply the Sobel edge filter to the target data (assuming edge is already on the CPU)\n",
    "edge = K.filters.sobel(data2)\n",
    "cc6 = np.array((edge[n, 0, :, :].cpu().detach()))\n",
    "# Display the filtered target data\n",
    "plt.imshow(cc6)\n",
    "\n",
    "# Uncomment the following lines if you want to save the figure as an image\n",
    "# plt.savefig('Output_image_b_' + f'{batch}' + '_number_of_epochs_' + f'{num_epochs}' + '.png')\n"
   ]
  },
  {
   "cell_type": "code",
   "execution_count": 130,
   "metadata": {},
   "outputs": [],
   "source": [
    "torch.save(net.state_dict(), 'Model_b_'+f'{batch}'+'_epochs_number_'+f'{num_epochs}'+'.pth')"
   ]
  },
  {
   "cell_type": "code",
   "execution_count": 128,
   "metadata": {},
   "outputs": [],
   "source": [
    "#print(torch.load(\"C://Users//yaswa//Downloads//code//Model_b_10_epochs_number_1.pth\", map_location=device))"
   ]
  },
  {
   "cell_type": "code",
   "execution_count": 131,
   "metadata": {},
   "outputs": [],
   "source": [
    "import pickle \n",
    "pickle.dump(net, open('C:\\\\Users\\\\yaswa\\\\Downloads\\\\code\\\\Model_b_'+f'{batch}'+'_epochs_number_'+f'{num_epochs}'+'.pkl', 'wb'))"
   ]
  },
  {
   "cell_type": "code",
   "execution_count": null,
   "metadata": {},
   "outputs": [],
   "source": []
  }
 ],
 "metadata": {
  "kernelspec": {
   "display_name": "Python 3 (ipykernel)",
   "language": "python",
   "name": "python3"
  },
  "language_info": {
   "codemirror_mode": {
    "name": "ipython",
    "version": 3
   },
   "file_extension": ".py",
   "mimetype": "text/x-python",
   "name": "python",
   "nbconvert_exporter": "python",
   "pygments_lexer": "ipython3",
   "version": "3.9.13"
  }
 },
 "nbformat": 4,
 "nbformat_minor": 4
}
